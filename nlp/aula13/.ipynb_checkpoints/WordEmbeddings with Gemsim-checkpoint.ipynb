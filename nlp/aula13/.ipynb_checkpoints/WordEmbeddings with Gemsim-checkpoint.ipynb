{
 "cells": [
  {
   "cell_type": "code",
   "execution_count": 1,
   "id": "f1220677",
   "metadata": {},
   "outputs": [],
   "source": [
    "# !pip install -U gensim"
   ]
  },
  {
   "cell_type": "code",
   "execution_count": 2,
   "id": "2909237d",
   "metadata": {},
   "outputs": [],
   "source": [
    "from gensim.models import Word2Vec, KeyedVectors"
   ]
  },
  {
   "cell_type": "code",
   "execution_count": 3,
   "id": "668606a3",
   "metadata": {},
   "outputs": [],
   "source": [
    "import numpy as np"
   ]
  },
  {
   "cell_type": "code",
   "execution_count": 4,
   "id": "bf3768c2",
   "metadata": {},
   "outputs": [],
   "source": [
    "modelo = KeyedVectors.load_word2vec_format(\"../../../dados/skip_s100/skip_s100.txt\")"
   ]
  },
  {
   "cell_type": "code",
   "execution_count": 5,
   "id": "d67587f8",
   "metadata": {},
   "outputs": [
    {
     "data": {
      "text/plain": [
       "array([-0.164461, -0.014363,  0.124512, -0.303955,  0.160792, -0.032028,\n",
       "       -0.048507, -0.034208,  0.107088, -0.093499,  0.349632, -0.087973,\n",
       "       -0.101196,  0.054815,  0.237671, -0.061357,  0.264327,  0.298272,\n",
       "       -0.024176,  0.389583,  0.065943,  0.054307,  0.106118,  0.23514 ,\n",
       "        0.078463,  0.282537, -0.150036, -0.006788,  0.051575,  0.083578,\n",
       "        0.242771, -0.223759, -0.146031, -0.159297,  0.287694, -0.083225,\n",
       "       -0.158965, -0.046706, -0.039911,  0.224569,  0.168114,  0.083644,\n",
       "        0.137285,  0.020159,  0.088486, -0.141225,  0.265956,  0.023687,\n",
       "        0.166814,  0.052159, -0.223885, -0.215677,  0.429719,  0.225931,\n",
       "        0.125467,  0.116944, -0.012855, -0.188196, -0.008294,  0.582053,\n",
       "        0.032072,  0.036928,  0.016363, -0.003704, -0.225326,  0.073739,\n",
       "        0.432913,  0.521782, -0.073163,  0.16542 ,  0.003852,  0.422371,\n",
       "        0.14309 , -0.079214,  0.112097, -0.142931,  0.104638,  0.324669,\n",
       "       -0.213694, -0.496184,  0.051481,  0.218193, -0.048533, -0.069502,\n",
       "       -0.037793, -0.303088,  0.215114, -0.083878, -0.049161,  0.013102,\n",
       "       -0.164921, -0.024278, -0.138655, -0.295473, -0.355548, -0.032664,\n",
       "        0.310142, -0.054391,  0.226432,  0.079264], dtype=float32)"
      ]
     },
     "execution_count": 5,
     "metadata": {},
     "output_type": "execute_result"
    }
   ],
   "source": [
    "modelo[\"gato\"]"
   ]
  },
  {
   "cell_type": "code",
   "execution_count": 6,
   "id": "ebbc4f35",
   "metadata": {},
   "outputs": [],
   "source": [
    "gato_hipotenusa = np.sqrt(np.sum(modelo[\"gato\"] ** 2))"
   ]
  },
  {
   "cell_type": "code",
   "execution_count": 7,
   "id": "de2be637",
   "metadata": {},
   "outputs": [],
   "source": [
    "gato_normal = modelo[\"gato\"] / gato_hipotenusa"
   ]
  },
  {
   "cell_type": "code",
   "execution_count": 8,
   "id": "47ededbb",
   "metadata": {},
   "outputs": [],
   "source": [
    "cahorro_hipotenusa = np.sqrt(np.sum(modelo[\"cahorro\"] ** 2))"
   ]
  },
  {
   "cell_type": "code",
   "execution_count": 9,
   "id": "47b42a93",
   "metadata": {},
   "outputs": [],
   "source": [
    "cachorro_normal = modelo[\"cachorro\"] / cahorro_hipotenusa"
   ]
  },
  {
   "cell_type": "code",
   "execution_count": 10,
   "id": "91489c30",
   "metadata": {},
   "outputs": [
    {
     "data": {
      "text/plain": [
       "1.5357524"
      ]
     },
     "execution_count": 10,
     "metadata": {},
     "output_type": "execute_result"
    }
   ],
   "source": [
    "np.dot(modelo[\"gato\"], modelo[\"cachorro\"]) / (gato_hipotenusa * cahorro_hipotenusa)"
   ]
  },
  {
   "cell_type": "code",
   "execution_count": 11,
   "id": "bf3876d8",
   "metadata": {},
   "outputs": [
    {
     "data": {
      "text/plain": [
       "[('trânsito', 0.877697229385376),\n",
       " ('tráfego', 0.6940882802009583),\n",
       " ('trafego', 0.6474871635437012),\n",
       " ('transporte', 0.642004668712616),\n",
       " ('ônibus.o', 0.6380943655967712),\n",
       " ('congestionado', 0.625903844833374),\n",
       " ('rodovário', 0.6216405630111694),\n",
       " ('manaustrans', 0.620560884475708),\n",
       " ('detran', 0.6070328950881958),\n",
       " ('rodoviário', 0.6058222651481628)]"
      ]
     },
     "execution_count": 11,
     "metadata": {},
     "output_type": "execute_result"
    }
   ],
   "source": [
    "modelo.most_similar(\"transito\")"
   ]
  },
  {
   "cell_type": "code",
   "execution_count": 12,
   "id": "648bf937",
   "metadata": {},
   "outputs": [
    {
     "data": {
      "text/plain": [
       "[('cadela', 0.7303145527839661),\n",
       " ('bala', 0.6700485944747925),\n",
       " ('onça', 0.6677137017250061),\n",
       " ('gambá', 0.6570473313331604),\n",
       " ('cadelinha', 0.6529739499092102),\n",
       " ('garota', 0.6457968354225159),\n",
       " ('coleira', 0.6434794664382935),\n",
       " ('rêmora', 0.6320232152938843),\n",
       " ('égua', 0.6318328976631165),\n",
       " ('pulguinha', 0.6285112500190735)]"
      ]
     },
     "execution_count": 12,
     "metadata": {},
     "output_type": "execute_result"
    }
   ],
   "source": [
    "modelo.most_similar(positive=[\"fêmea\", \"cachorro\"], negative=[\"macho\"])"
   ]
  },
  {
   "cell_type": "code",
   "execution_count": 13,
   "id": "55b0be07",
   "metadata": {},
   "outputs": [
    {
     "data": {
      "text/plain": [
       "[('rainha-consorte', 0.7912216186523438),\n",
       " ('primogénita', 0.7738461494445801),\n",
       " ('imperatriz-mãe', 0.7646884322166443),\n",
       " ('paleóloga', 0.752788245677948),\n",
       " ('dama-de-companhia', 0.7478024363517761),\n",
       " ('consorte', 0.7475903630256653),\n",
       " ('princesa-eleitora', 0.7472771406173706),\n",
       " ('piroska', 0.7468665838241577),\n",
       " ('ulrica', 0.7454056143760681),\n",
       " ('ranavalona', 0.7441917657852173)]"
      ]
     },
     "execution_count": 13,
     "metadata": {},
     "output_type": "execute_result"
    }
   ],
   "source": [
    "modelo.most_similar(positive=[\"mulher\", \"rei\"], negative=[\"homem\"])"
   ]
  },
  {
   "cell_type": "code",
   "execution_count": 14,
   "id": "f433571f",
   "metadata": {},
   "outputs": [
    {
     "data": {
      "text/plain": [
       "'casa'"
      ]
     },
     "execution_count": 14,
     "metadata": {},
     "output_type": "execute_result"
    }
   ],
   "source": [
    "modelo.doesnt_match([\"gato\", \"cachorro\", \"papagaio\", \"casa\", \"galinha\"])"
   ]
  },
  {
   "cell_type": "code",
   "execution_count": 15,
   "id": "c6b67a3f",
   "metadata": {},
   "outputs": [
    {
     "data": {
      "text/plain": [
       "'estudo'"
      ]
     },
     "execution_count": 15,
     "metadata": {},
     "output_type": "execute_result"
    }
   ],
   "source": [
    "modelo.doesnt_match([\"dinheiro\", \"estudo\", \"dormir\", \"trabalhar\", \"estudante\"])"
   ]
  },
  {
   "cell_type": "markdown",
   "id": "0386402e",
   "metadata": {},
   "source": [
    "# Analise de Sentimento utilizando Word Embedding"
   ]
  },
  {
   "cell_type": "code",
   "execution_count": 16,
   "id": "e2beb782",
   "metadata": {},
   "outputs": [],
   "source": [
    "import pandas as pd"
   ]
  },
  {
   "cell_type": "code",
   "execution_count": 17,
   "id": "80cc9412",
   "metadata": {},
   "outputs": [],
   "source": [
    "import matplotlib.pyplot as plt"
   ]
  },
  {
   "cell_type": "code",
   "execution_count": 18,
   "id": "ba83d5ba",
   "metadata": {},
   "outputs": [],
   "source": [
    "import nltk"
   ]
  },
  {
   "cell_type": "code",
   "execution_count": 19,
   "id": "0e676c63",
   "metadata": {},
   "outputs": [],
   "source": [
    "from sklearn.model_selection import train_test_split"
   ]
  },
  {
   "cell_type": "code",
   "execution_count": 20,
   "id": "a34b82ad",
   "metadata": {},
   "outputs": [],
   "source": [
    "from tensorflow.keras.models import Sequential"
   ]
  },
  {
   "cell_type": "code",
   "execution_count": 21,
   "id": "d597e115",
   "metadata": {},
   "outputs": [],
   "source": [
    "from tensorflow.keras.layers import Dense, Embedding, GlobalAveragePooling1D"
   ]
  },
  {
   "cell_type": "code",
   "execution_count": 22,
   "id": "495ef547",
   "metadata": {},
   "outputs": [],
   "source": [
    "from tensorflow.keras.preprocessing.sequence import pad_sequences"
   ]
  },
  {
   "cell_type": "code",
   "execution_count": 23,
   "id": "1a34ee65",
   "metadata": {},
   "outputs": [],
   "source": [
    "import string"
   ]
  },
  {
   "cell_type": "code",
   "execution_count": 24,
   "id": "60e9aed9",
   "metadata": {},
   "outputs": [],
   "source": [
    "from unidecode import unidecode"
   ]
  },
  {
   "cell_type": "code",
   "execution_count": 25,
   "id": "f8bb525c",
   "metadata": {},
   "outputs": [],
   "source": [
    "from sklearn.preprocessing import LabelEncoder"
   ]
  },
  {
   "cell_type": "code",
   "execution_count": 26,
   "id": "4e9503ac",
   "metadata": {},
   "outputs": [],
   "source": [
    "from tensorflow.keras.utils import to_categorical"
   ]
  },
  {
   "cell_type": "code",
   "execution_count": 27,
   "id": "3391ff1f",
   "metadata": {},
   "outputs": [],
   "source": [
    "df = pd.read_csv(\"../../../dados/financial_phrase/financial_phrase_bank_pt_br.csv\", low_memory=False)"
   ]
  },
  {
   "cell_type": "code",
   "execution_count": 28,
   "id": "50521482",
   "metadata": {},
   "outputs": [],
   "source": [
    "df = df[[\"y\", \"text_pt\"]]"
   ]
  },
  {
   "cell_type": "code",
   "execution_count": 29,
   "id": "aa662443",
   "metadata": {},
   "outputs": [
    {
     "data": {
      "text/html": [
       "<div>\n",
       "<style scoped>\n",
       "    .dataframe tbody tr th:only-of-type {\n",
       "        vertical-align: middle;\n",
       "    }\n",
       "\n",
       "    .dataframe tbody tr th {\n",
       "        vertical-align: top;\n",
       "    }\n",
       "\n",
       "    .dataframe thead th {\n",
       "        text-align: right;\n",
       "    }\n",
       "</style>\n",
       "<table border=\"1\" class=\"dataframe\">\n",
       "  <thead>\n",
       "    <tr style=\"text-align: right;\">\n",
       "      <th></th>\n",
       "      <th>y</th>\n",
       "      <th>text_pt</th>\n",
       "    </tr>\n",
       "  </thead>\n",
       "  <tbody>\n",
       "    <tr>\n",
       "      <th>0</th>\n",
       "      <td>neutral</td>\n",
       "      <td>A Technopolis planeja desenvolver em etapas um...</td>\n",
       "    </tr>\n",
       "    <tr>\n",
       "      <th>1</th>\n",
       "      <td>negative</td>\n",
       "      <td>A Elcoteq, empresa internacional da indústria ...</td>\n",
       "    </tr>\n",
       "    <tr>\n",
       "      <th>2</th>\n",
       "      <td>positive</td>\n",
       "      <td>Com a nova planta de produção a empresa aument...</td>\n",
       "    </tr>\n",
       "    <tr>\n",
       "      <th>3</th>\n",
       "      <td>positive</td>\n",
       "      <td>De acordo com a estratégia atualizada da empre...</td>\n",
       "    </tr>\n",
       "    <tr>\n",
       "      <th>4</th>\n",
       "      <td>positive</td>\n",
       "      <td>FINANCIAMENTO DO CRESCIMENTO DA ASPOCOMP A Asp...</td>\n",
       "    </tr>\n",
       "    <tr>\n",
       "      <th>...</th>\n",
       "      <td>...</td>\n",
       "      <td>...</td>\n",
       "    </tr>\n",
       "    <tr>\n",
       "      <th>4840</th>\n",
       "      <td>negative</td>\n",
       "      <td>LONDRES MarketWatch - Os preços das ações term...</td>\n",
       "    </tr>\n",
       "    <tr>\n",
       "      <th>4841</th>\n",
       "      <td>neutral</td>\n",
       "      <td>As vendas de cerveja da Rinkuskiai caíram 6,5 ...</td>\n",
       "    </tr>\n",
       "    <tr>\n",
       "      <th>4842</th>\n",
       "      <td>negative</td>\n",
       "      <td>O lucro operacional caiu para EUR 35,4 milhões...</td>\n",
       "    </tr>\n",
       "    <tr>\n",
       "      <th>4843</th>\n",
       "      <td>negative</td>\n",
       "      <td>As vendas líquidas do segmento de Papel diminu...</td>\n",
       "    </tr>\n",
       "    <tr>\n",
       "      <th>4844</th>\n",
       "      <td>negative</td>\n",
       "      <td>As vendas na Finlândia diminuíram 10,5% em jan...</td>\n",
       "    </tr>\n",
       "  </tbody>\n",
       "</table>\n",
       "<p>4845 rows × 2 columns</p>\n",
       "</div>"
      ],
      "text/plain": [
       "             y                                            text_pt\n",
       "0      neutral  A Technopolis planeja desenvolver em etapas um...\n",
       "1     negative  A Elcoteq, empresa internacional da indústria ...\n",
       "2     positive  Com a nova planta de produção a empresa aument...\n",
       "3     positive  De acordo com a estratégia atualizada da empre...\n",
       "4     positive  FINANCIAMENTO DO CRESCIMENTO DA ASPOCOMP A Asp...\n",
       "...        ...                                                ...\n",
       "4840  negative  LONDRES MarketWatch - Os preços das ações term...\n",
       "4841   neutral  As vendas de cerveja da Rinkuskiai caíram 6,5 ...\n",
       "4842  negative  O lucro operacional caiu para EUR 35,4 milhões...\n",
       "4843  negative  As vendas líquidas do segmento de Papel diminu...\n",
       "4844  negative  As vendas na Finlândia diminuíram 10,5% em jan...\n",
       "\n",
       "[4845 rows x 2 columns]"
      ]
     },
     "execution_count": 29,
     "metadata": {},
     "output_type": "execute_result"
    }
   ],
   "source": [
    "df"
   ]
  },
  {
   "cell_type": "code",
   "execution_count": 30,
   "id": "d3a232ed",
   "metadata": {},
   "outputs": [],
   "source": [
    "# preparar o texto removendo caracteres especiais e pontuação\n",
    "def preparar_texto( texto ):\n",
    "    texto_minusculo = texto.lower()\n",
    "    mascara = str.maketrans(\"\\n\\r\\t\", \"   \", string.punctuation)\n",
    "    texto_limpo = texto_minusculo.translate(mascara)\n",
    "    texto_limpo = unidecode(texto_limpo)\n",
    "    return texto_limpo"
   ]
  },
  {
   "cell_type": "code",
   "execution_count": 31,
   "id": "d49cde77",
   "metadata": {},
   "outputs": [
    {
     "name": "stdout",
     "output_type": "stream",
     "text": [
      "Preparando texto: 2000\n",
      "Preparando texto: 4000\n"
     ]
    }
   ],
   "source": [
    "count = 0\n",
    "def limpar_texto( texto ):\n",
    "    global count\n",
    "    texto_limpo = \"\"\n",
    "    if type(texto) == str:\n",
    "        texto_limpo = preparar_texto( texto )\n",
    "    count += 1\n",
    "    if count % 2000 == 0:\n",
    "        print(f\"Preparando texto: {count}\")\n",
    "    return texto_limpo\n",
    "\n",
    "df['clean_text'] = df[\"text_pt\"].apply(limpar_texto)"
   ]
  },
  {
   "cell_type": "code",
   "execution_count": 32,
   "id": "ec423174",
   "metadata": {},
   "outputs": [],
   "source": [
    "unique_classes = df['y'].unique()"
   ]
  },
  {
   "cell_type": "code",
   "execution_count": 33,
   "id": "2bbf118e",
   "metadata": {},
   "outputs": [],
   "source": [
    "NUM_CLASSES = len(unique_classes)"
   ]
  },
  {
   "cell_type": "code",
   "execution_count": 34,
   "id": "68b617a2",
   "metadata": {},
   "outputs": [],
   "source": [
    "# for word in modelo.index_to_key:\n",
    "#    print(word)"
   ]
  },
  {
   "cell_type": "code",
   "execution_count": 35,
   "id": "1d60f6f2",
   "metadata": {},
   "outputs": [],
   "source": [
    "# modelo[\"</s>\"]"
   ]
  },
  {
   "cell_type": "code",
   "execution_count": 36,
   "id": "ffba3636",
   "metadata": {},
   "outputs": [
    {
     "data": {
      "text/plain": [
       "0       a technopolis planeja desenvolver em etapas um...\n",
       "1       a elcoteq empresa internacional da industria e...\n",
       "2       com a nova planta de producao a empresa aument...\n",
       "3       de acordo com a estrategia atualizada da empre...\n",
       "4       financiamento do crescimento da aspocomp a asp...\n",
       "                              ...                        \n",
       "4840    londres marketwatch  os precos das acoes termi...\n",
       "4841    as vendas de cerveja da rinkuskiai cairam 65 p...\n",
       "4842    o lucro operacional caiu para eur 354 milhoes ...\n",
       "4843    as vendas liquidas do segmento de papel diminu...\n",
       "4844    as vendas na finlandia diminuiram 105 em janei...\n",
       "Name: clean_text, Length: 4845, dtype: object"
      ]
     },
     "execution_count": 36,
     "metadata": {},
     "output_type": "execute_result"
    }
   ],
   "source": [
    "df[\"clean_text\"]"
   ]
  },
  {
   "cell_type": "code",
   "execution_count": 37,
   "id": "a678bf1e",
   "metadata": {},
   "outputs": [],
   "source": [
    "max_palavras = 0\n",
    "def texto_to_embedding( texto ):\n",
    "    global max_palavras\n",
    "    texto_embedding = []\n",
    "    for indice_palavra, palavra in enumerate(texto.split(\" \")):\n",
    "        try:\n",
    "            vetor = modelo[palavra]\n",
    "        except:\n",
    "            vetor = modelo['</s>'] # np.zeros(100)\n",
    "            # palavra desconhecida\n",
    "        texto_embedding.append(np.array(vetor))\n",
    "        if indice_palavra > max_palavras:\n",
    "            max_palavras = indice_palavra\n",
    "    return np.array(texto_embedding)"
   ]
  },
  {
   "cell_type": "code",
   "execution_count": 38,
   "id": "c53dd601",
   "metadata": {},
   "outputs": [
    {
     "data": {
      "text/plain": [
       "(31, 100)"
      ]
     },
     "execution_count": 38,
     "metadata": {},
     "output_type": "execute_result"
    }
   ],
   "source": [
    "texto_to_embedding(df['clean_text'][2]).shape"
   ]
  },
  {
   "cell_type": "code",
   "execution_count": 39,
   "id": "a8ed83e4",
   "metadata": {},
   "outputs": [],
   "source": [
    "count = 0\n",
    "def gerar_embeddings( texto ):\n",
    "    global count\n",
    "    embedding = texto_to_embedding(texto)\n",
    "    count += 1\n",
    "    if count % 500 == 0:\n",
    "        print(f\"Preparando texto: {count}\")\n",
    "    return embedding\n"
   ]
  },
  {
   "cell_type": "code",
   "execution_count": 40,
   "id": "415b63e6",
   "metadata": {},
   "outputs": [
    {
     "name": "stdout",
     "output_type": "stream",
     "text": [
      "Preparando texto: 500\n",
      "Preparando texto: 1000\n",
      "Preparando texto: 1500\n",
      "Preparando texto: 2000\n",
      "Preparando texto: 2500\n",
      "Preparando texto: 3000\n",
      "Preparando texto: 3500\n",
      "Preparando texto: 4000\n",
      "Preparando texto: 4500\n"
     ]
    }
   ],
   "source": [
    "df['embedding_text'] = df[\"clean_text\"].apply(gerar_embeddings)"
   ]
  },
  {
   "cell_type": "code",
   "execution_count": 41,
   "id": "ae71a5f7",
   "metadata": {},
   "outputs": [
    {
     "data": {
      "text/plain": [
       "(63, 100)"
      ]
     },
     "execution_count": 41,
     "metadata": {},
     "output_type": "execute_result"
    }
   ],
   "source": [
    "embedding_text = df[\"embedding_text\"][2]\n",
    "lista = [elemento for elemento in embedding_text]\n",
    "if len(embedding_text) < max_palavras:\n",
    "    amais = max_palavras - len(embedding_text)\n",
    "    for i in range(amais):\n",
    "        lista.append(np.zeros(100))\n",
    "embedding_padded_lista = np.array(lista)\n",
    "embedding_padded_lista.shape"
   ]
  },
  {
   "cell_type": "code",
   "execution_count": 42,
   "id": "569dfebc",
   "metadata": {},
   "outputs": [],
   "source": [
    "def pad_embedding_texts( texto_embedding ):\n",
    "    global max_palavras\n",
    "    lista = [elemento for elemento in embedding_text]\n",
    "    if len(embedding_text) < max_palavras:\n",
    "        amais = max_palavras - len(embedding_text)\n",
    "        for i in range(amais):\n",
    "            lista.append(np.zeros(100))\n",
    "    embedding_padded_lista = np.array(lista)\n",
    "    return embedding_padded_lista"
   ]
  },
  {
   "cell_type": "code",
   "execution_count": 43,
   "id": "a332392e",
   "metadata": {},
   "outputs": [],
   "source": [
    "df['embedding_padded_text'] = df[\"embedding_text\"].apply(pad_embedding_texts)"
   ]
  },
  {
   "cell_type": "code",
   "execution_count": 44,
   "id": "7427ec62",
   "metadata": {},
   "outputs": [
    {
     "data": {
      "text/plain": [
       "(63, 100)"
      ]
     },
     "execution_count": 44,
     "metadata": {},
     "output_type": "execute_result"
    }
   ],
   "source": [
    "df['embedding_padded_text'][1000].shape"
   ]
  },
  {
   "cell_type": "code",
   "execution_count": 45,
   "id": "7c1f25e6",
   "metadata": {},
   "outputs": [],
   "source": [
    "# X = np.array(df['embedding_padded_text'])\n",
    "# X"
   ]
  },
  {
   "cell_type": "code",
   "execution_count": 46,
   "id": "fb67666e",
   "metadata": {},
   "outputs": [],
   "source": [
    "label_encoder = LabelEncoder()"
   ]
  },
  {
   "cell_type": "code",
   "execution_count": 47,
   "id": "d683eca3",
   "metadata": {},
   "outputs": [],
   "source": [
    "Y_numeros = label_encoder.fit_transform(df['y'])"
   ]
  },
  {
   "cell_type": "code",
   "execution_count": 48,
   "id": "7ced29d3",
   "metadata": {},
   "outputs": [],
   "source": [
    "Y = to_categorical(Y_numeros)"
   ]
  },
  {
   "cell_type": "code",
   "execution_count": 49,
   "id": "d9004511",
   "metadata": {},
   "outputs": [],
   "source": [
    "X = np.array([np.array(embed_item) for embed_item in df['embedding_padded_text']])"
   ]
  },
  {
   "cell_type": "code",
   "execution_count": 50,
   "id": "ba2fe7dc",
   "metadata": {},
   "outputs": [
    {
     "data": {
      "text/plain": [
       "(4845, 63, 100)"
      ]
     },
     "execution_count": 50,
     "metadata": {},
     "output_type": "execute_result"
    }
   ],
   "source": [
    "X.shape"
   ]
  },
  {
   "cell_type": "code",
   "execution_count": 51,
   "id": "ac6613df",
   "metadata": {
    "scrolled": true
   },
   "outputs": [
    {
     "name": "stderr",
     "output_type": "stream",
     "text": [
      "C:\\Users\\anton\\AppData\\Roaming\\Python\\Python310\\site-packages\\keras\\src\\layers\\core\\dense.py:86: UserWarning: Do not pass an `input_shape`/`input_dim` argument to a layer. When using Sequential models, prefer using an `Input(shape)` object as the first layer in the model instead.\n",
      "  super().__init__(activity_regularizer=activity_regularizer, **kwargs)\n"
     ]
    },
    {
     "data": {
      "text/html": [
       "<pre style=\"white-space:pre;overflow-x:auto;line-height:normal;font-family:Menlo,'DejaVu Sans Mono',consolas,'Courier New',monospace\"><span style=\"font-weight: bold\">Model: \"sequential\"</span>\n",
       "</pre>\n"
      ],
      "text/plain": [
       "\u001b[1mModel: \"sequential\"\u001b[0m\n"
      ]
     },
     "metadata": {},
     "output_type": "display_data"
    },
    {
     "data": {
      "text/html": [
       "<pre style=\"white-space:pre;overflow-x:auto;line-height:normal;font-family:Menlo,'DejaVu Sans Mono',consolas,'Courier New',monospace\">┏━━━━━━━━━━━━━━━━━━━━━━━━━━━━━━━━━━━━━━┳━━━━━━━━━━━━━━━━━━━━━━━━━━━━━┳━━━━━━━━━━━━━━━━━┓\n",
       "┃<span style=\"font-weight: bold\"> Layer (type)                         </span>┃<span style=\"font-weight: bold\"> Output Shape                </span>┃<span style=\"font-weight: bold\">         Param # </span>┃\n",
       "┡━━━━━━━━━━━━━━━━━━━━━━━━━━━━━━━━━━━━━━╇━━━━━━━━━━━━━━━━━━━━━━━━━━━━━╇━━━━━━━━━━━━━━━━━┩\n",
       "│ dense (<span style=\"color: #0087ff; text-decoration-color: #0087ff\">Dense</span>)                        │ (<span style=\"color: #00d7ff; text-decoration-color: #00d7ff\">None</span>, <span style=\"color: #00af00; text-decoration-color: #00af00\">63</span>, <span style=\"color: #00af00; text-decoration-color: #00af00\">128</span>)             │          <span style=\"color: #00af00; text-decoration-color: #00af00\">12,928</span> │\n",
       "├──────────────────────────────────────┼─────────────────────────────┼─────────────────┤\n",
       "│ global_average_pooling1d             │ (<span style=\"color: #00d7ff; text-decoration-color: #00d7ff\">None</span>, <span style=\"color: #00af00; text-decoration-color: #00af00\">128</span>)                 │               <span style=\"color: #00af00; text-decoration-color: #00af00\">0</span> │\n",
       "│ (<span style=\"color: #0087ff; text-decoration-color: #0087ff\">GlobalAveragePooling1D</span>)             │                             │                 │\n",
       "├──────────────────────────────────────┼─────────────────────────────┼─────────────────┤\n",
       "│ dense_1 (<span style=\"color: #0087ff; text-decoration-color: #0087ff\">Dense</span>)                      │ (<span style=\"color: #00d7ff; text-decoration-color: #00d7ff\">None</span>, <span style=\"color: #00af00; text-decoration-color: #00af00\">3</span>)                   │             <span style=\"color: #00af00; text-decoration-color: #00af00\">387</span> │\n",
       "└──────────────────────────────────────┴─────────────────────────────┴─────────────────┘\n",
       "</pre>\n"
      ],
      "text/plain": [
       "┏━━━━━━━━━━━━━━━━━━━━━━━━━━━━━━━━━━━━━━┳━━━━━━━━━━━━━━━━━━━━━━━━━━━━━┳━━━━━━━━━━━━━━━━━┓\n",
       "┃\u001b[1m \u001b[0m\u001b[1mLayer (type)                        \u001b[0m\u001b[1m \u001b[0m┃\u001b[1m \u001b[0m\u001b[1mOutput Shape               \u001b[0m\u001b[1m \u001b[0m┃\u001b[1m \u001b[0m\u001b[1m        Param #\u001b[0m\u001b[1m \u001b[0m┃\n",
       "┡━━━━━━━━━━━━━━━━━━━━━━━━━━━━━━━━━━━━━━╇━━━━━━━━━━━━━━━━━━━━━━━━━━━━━╇━━━━━━━━━━━━━━━━━┩\n",
       "│ dense (\u001b[38;5;33mDense\u001b[0m)                        │ (\u001b[38;5;45mNone\u001b[0m, \u001b[38;5;34m63\u001b[0m, \u001b[38;5;34m128\u001b[0m)             │          \u001b[38;5;34m12,928\u001b[0m │\n",
       "├──────────────────────────────────────┼─────────────────────────────┼─────────────────┤\n",
       "│ global_average_pooling1d             │ (\u001b[38;5;45mNone\u001b[0m, \u001b[38;5;34m128\u001b[0m)                 │               \u001b[38;5;34m0\u001b[0m │\n",
       "│ (\u001b[38;5;33mGlobalAveragePooling1D\u001b[0m)             │                             │                 │\n",
       "├──────────────────────────────────────┼─────────────────────────────┼─────────────────┤\n",
       "│ dense_1 (\u001b[38;5;33mDense\u001b[0m)                      │ (\u001b[38;5;45mNone\u001b[0m, \u001b[38;5;34m3\u001b[0m)                   │             \u001b[38;5;34m387\u001b[0m │\n",
       "└──────────────────────────────────────┴─────────────────────────────┴─────────────────┘\n"
      ]
     },
     "metadata": {},
     "output_type": "display_data"
    },
    {
     "data": {
      "text/html": [
       "<pre style=\"white-space:pre;overflow-x:auto;line-height:normal;font-family:Menlo,'DejaVu Sans Mono',consolas,'Courier New',monospace\"><span style=\"font-weight: bold\"> Total params: </span><span style=\"color: #00af00; text-decoration-color: #00af00\">13,315</span> (52.01 KB)\n",
       "</pre>\n"
      ],
      "text/plain": [
       "\u001b[1m Total params: \u001b[0m\u001b[38;5;34m13,315\u001b[0m (52.01 KB)\n"
      ]
     },
     "metadata": {},
     "output_type": "display_data"
    },
    {
     "data": {
      "text/html": [
       "<pre style=\"white-space:pre;overflow-x:auto;line-height:normal;font-family:Menlo,'DejaVu Sans Mono',consolas,'Courier New',monospace\"><span style=\"font-weight: bold\"> Trainable params: </span><span style=\"color: #00af00; text-decoration-color: #00af00\">13,315</span> (52.01 KB)\n",
       "</pre>\n"
      ],
      "text/plain": [
       "\u001b[1m Trainable params: \u001b[0m\u001b[38;5;34m13,315\u001b[0m (52.01 KB)\n"
      ]
     },
     "metadata": {},
     "output_type": "display_data"
    },
    {
     "data": {
      "text/html": [
       "<pre style=\"white-space:pre;overflow-x:auto;line-height:normal;font-family:Menlo,'DejaVu Sans Mono',consolas,'Courier New',monospace\"><span style=\"font-weight: bold\"> Non-trainable params: </span><span style=\"color: #00af00; text-decoration-color: #00af00\">0</span> (0.00 B)\n",
       "</pre>\n"
      ],
      "text/plain": [
       "\u001b[1m Non-trainable params: \u001b[0m\u001b[38;5;34m0\u001b[0m (0.00 B)\n"
      ]
     },
     "metadata": {},
     "output_type": "display_data"
    }
   ],
   "source": [
    "model = Sequential()\n",
    "model.add(Dense(128, input_shape=(max_palavras, 100), activation=\"relu\"))\n",
    "model.add(GlobalAveragePooling1D())\n",
    "# model.add(Dense(64, activation=\"relu\"))\n",
    "model.add(Dense(3, activation=\"softmax\"))\n",
    "model.summary()"
   ]
  },
  {
   "cell_type": "code",
   "execution_count": 52,
   "id": "c38a1393",
   "metadata": {},
   "outputs": [],
   "source": [
    "model.compile(loss=\"categorical_crossentropy\", optimizer=\"adam\", metrics=[\"accuracy\"])"
   ]
  },
  {
   "cell_type": "code",
   "execution_count": 53,
   "id": "7ea1a35a",
   "metadata": {},
   "outputs": [
    {
     "name": "stdout",
     "output_type": "stream",
     "text": [
      "Epoch 1/10\n",
      "\u001b[1m152/152\u001b[0m \u001b[32m━━━━━━━━━━━━━━━━━━━━\u001b[0m\u001b[37m\u001b[0m \u001b[1m4s\u001b[0m 8ms/step - accuracy: 0.5865 - loss: 0.9706\n",
      "Epoch 2/10\n",
      "\u001b[1m152/152\u001b[0m \u001b[32m━━━━━━━━━━━━━━━━━━━━\u001b[0m\u001b[37m\u001b[0m \u001b[1m1s\u001b[0m 9ms/step - accuracy: 0.5992 - loss: 0.9121\n",
      "Epoch 3/10\n",
      "\u001b[1m152/152\u001b[0m \u001b[32m━━━━━━━━━━━━━━━━━━━━\u001b[0m\u001b[37m\u001b[0m \u001b[1m2s\u001b[0m 11ms/step - accuracy: 0.5966 - loss: 0.9240\n",
      "Epoch 4/10\n",
      "\u001b[1m152/152\u001b[0m \u001b[32m━━━━━━━━━━━━━━━━━━━━\u001b[0m\u001b[37m\u001b[0m \u001b[1m2s\u001b[0m 10ms/step - accuracy: 0.5775 - loss: 0.9385\n",
      "Epoch 5/10\n",
      "\u001b[1m152/152\u001b[0m \u001b[32m━━━━━━━━━━━━━━━━━━━━\u001b[0m\u001b[37m\u001b[0m \u001b[1m1s\u001b[0m 6ms/step - accuracy: 0.5974 - loss: 0.9212\n",
      "Epoch 6/10\n",
      "\u001b[1m152/152\u001b[0m \u001b[32m━━━━━━━━━━━━━━━━━━━━\u001b[0m\u001b[37m\u001b[0m \u001b[1m1s\u001b[0m 7ms/step - accuracy: 0.5878 - loss: 0.9294\n",
      "Epoch 7/10\n",
      "\u001b[1m152/152\u001b[0m \u001b[32m━━━━━━━━━━━━━━━━━━━━\u001b[0m\u001b[37m\u001b[0m \u001b[1m1s\u001b[0m 6ms/step - accuracy: 0.5947 - loss: 0.9230\n",
      "Epoch 8/10\n",
      "\u001b[1m152/152\u001b[0m \u001b[32m━━━━━━━━━━━━━━━━━━━━\u001b[0m\u001b[37m\u001b[0m \u001b[1m1s\u001b[0m 6ms/step - accuracy: 0.5925 - loss: 0.9317\n",
      "Epoch 9/10\n",
      "\u001b[1m152/152\u001b[0m \u001b[32m━━━━━━━━━━━━━━━━━━━━\u001b[0m\u001b[37m\u001b[0m \u001b[1m1s\u001b[0m 6ms/step - accuracy: 0.6109 - loss: 0.9080\n",
      "Epoch 10/10\n",
      "\u001b[1m152/152\u001b[0m \u001b[32m━━━━━━━━━━━━━━━━━━━━\u001b[0m\u001b[37m\u001b[0m \u001b[1m2s\u001b[0m 11ms/step - accuracy: 0.5978 - loss: 0.9203\n"
     ]
    },
    {
     "data": {
      "text/plain": [
       "<keras.src.callbacks.history.History at 0x206fc94d8a0>"
      ]
     },
     "execution_count": 53,
     "metadata": {},
     "output_type": "execute_result"
    }
   ],
   "source": [
    "model.fit(X, Y, epochs=10)"
   ]
  },
  {
   "cell_type": "code",
   "execution_count": null,
   "id": "22dc39ce",
   "metadata": {},
   "outputs": [],
   "source": []
  }
 ],
 "metadata": {
  "kernelspec": {
   "display_name": "Python 3 (ipykernel)",
   "language": "python",
   "name": "python3"
  },
  "language_info": {
   "codemirror_mode": {
    "name": "ipython",
    "version": 3
   },
   "file_extension": ".py",
   "mimetype": "text/x-python",
   "name": "python",
   "nbconvert_exporter": "python",
   "pygments_lexer": "ipython3",
   "version": "3.10.9"
  }
 },
 "nbformat": 4,
 "nbformat_minor": 5
}
