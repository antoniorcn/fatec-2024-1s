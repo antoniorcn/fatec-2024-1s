{
 "cells": [
  {
   "cell_type": "code",
   "execution_count": 1,
   "id": "0cdeae62",
   "metadata": {},
   "outputs": [],
   "source": [
    "import string"
   ]
  },
  {
   "cell_type": "code",
   "execution_count": 2,
   "id": "ec9a9819",
   "metadata": {},
   "outputs": [
    {
     "data": {
      "text/plain": [
       "'!\"#$%&\\'()*+,-./:;<=>?@[\\\\]^_`{|}~'"
      ]
     },
     "execution_count": 2,
     "metadata": {},
     "output_type": "execute_result"
    }
   ],
   "source": [
    "string.punctuation"
   ]
  },
  {
   "cell_type": "code",
   "execution_count": 8,
   "id": "4460fce5",
   "metadata": {},
   "outputs": [],
   "source": [
    "def limpar_caracteres( texto ): \n",
    "    pontuacao = string.punctuation + \"\\n\\r\\t\"\n",
    "    size = len(pontuacao)\n",
    "    mytable = str.maketrans(pontuacao, \" \" * size)\n",
    "    return texto.translate(mytable)"
   ]
  },
  {
   "cell_type": "code",
   "execution_count": 9,
   "id": "0f35a0b5",
   "metadata": {},
   "outputs": [
    {
     "data": {
      "text/plain": [
       "'palavra1 palavra2     palavra3'"
      ]
     },
     "execution_count": 9,
     "metadata": {},
     "output_type": "execute_result"
    }
   ],
   "source": [
    "limpar_caracteres(\"\"\"palavra1\n",
    "                  ,palavra2!palavra3\"\"\")"
   ]
  },
  {
   "cell_type": "code",
   "execution_count": null,
   "id": "c5fa1928",
   "metadata": {},
   "outputs": [],
   "source": []
  }
 ],
 "metadata": {
  "kernelspec": {
   "display_name": "Python 3 (ipykernel)",
   "language": "python",
   "name": "python3"
  },
  "language_info": {
   "codemirror_mode": {
    "name": "ipython",
    "version": 3
   },
   "file_extension": ".py",
   "mimetype": "text/x-python",
   "name": "python",
   "nbconvert_exporter": "python",
   "pygments_lexer": "ipython3",
   "version": "3.10.9"
  }
 },
 "nbformat": 4,
 "nbformat_minor": 5
}
