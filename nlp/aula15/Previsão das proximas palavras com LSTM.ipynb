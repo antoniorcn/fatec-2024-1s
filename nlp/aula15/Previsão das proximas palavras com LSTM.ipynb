{
 "cells": [
  {
   "cell_type": "code",
   "execution_count": 1,
   "id": "9394fedb",
   "metadata": {},
   "outputs": [],
   "source": [
    "import pandas as pd"
   ]
  },
  {
   "cell_type": "code",
   "execution_count": 2,
   "id": "6739b356",
   "metadata": {},
   "outputs": [],
   "source": [
    "import tensorflow as tf"
   ]
  },
  {
   "cell_type": "code",
   "execution_count": 3,
   "id": "c4bf917e",
   "metadata": {},
   "outputs": [],
   "source": [
    "from tensorflow.keras.preprocessing.text import Tokenizer"
   ]
  },
  {
   "cell_type": "code",
   "execution_count": 4,
   "id": "25098b51",
   "metadata": {},
   "outputs": [],
   "source": [
    "from tensorflow.keras.utils import pad_sequences"
   ]
  },
  {
   "cell_type": "code",
   "execution_count": 5,
   "id": "6a614cbd",
   "metadata": {},
   "outputs": [],
   "source": [
    "from tensorflow.keras.utils import to_categorical"
   ]
  },
  {
   "cell_type": "code",
   "execution_count": 6,
   "id": "f3d6f120",
   "metadata": {},
   "outputs": [],
   "source": [
    "from tensorflow.keras import Sequential"
   ]
  },
  {
   "cell_type": "code",
   "execution_count": 7,
   "id": "322b9c6e",
   "metadata": {},
   "outputs": [],
   "source": [
    "from tensorflow.keras.layers import LSTM, Embedding, Bidirectional, Dense"
   ]
  },
  {
   "cell_type": "code",
   "execution_count": 64,
   "id": "b0501fec",
   "metadata": {},
   "outputs": [],
   "source": [
    "import numpy as np"
   ]
  },
  {
   "cell_type": "code",
   "execution_count": 8,
   "id": "e5779962",
   "metadata": {},
   "outputs": [],
   "source": [
    "df = pd.read_csv(\"../../../dados/medium_data.csv\")"
   ]
  },
  {
   "cell_type": "code",
   "execution_count": 9,
   "id": "634f3a23",
   "metadata": {},
   "outputs": [
    {
     "data": {
      "text/html": [
       "<div>\n",
       "<style scoped>\n",
       "    .dataframe tbody tr th:only-of-type {\n",
       "        vertical-align: middle;\n",
       "    }\n",
       "\n",
       "    .dataframe tbody tr th {\n",
       "        vertical-align: top;\n",
       "    }\n",
       "\n",
       "    .dataframe thead th {\n",
       "        text-align: right;\n",
       "    }\n",
       "</style>\n",
       "<table border=\"1\" class=\"dataframe\">\n",
       "  <thead>\n",
       "    <tr style=\"text-align: right;\">\n",
       "      <th></th>\n",
       "      <th>id</th>\n",
       "      <th>title</th>\n",
       "    </tr>\n",
       "  </thead>\n",
       "  <tbody>\n",
       "    <tr>\n",
       "      <th>0</th>\n",
       "      <td>1</td>\n",
       "      <td>A Beginner’s Guide to Word Embedding with Gens...</td>\n",
       "    </tr>\n",
       "    <tr>\n",
       "      <th>1</th>\n",
       "      <td>2</td>\n",
       "      <td>Hands-on Graph Neural Networks with PyTorch &amp; ...</td>\n",
       "    </tr>\n",
       "    <tr>\n",
       "      <th>2</th>\n",
       "      <td>3</td>\n",
       "      <td>How to Use ggplot2 in Python</td>\n",
       "    </tr>\n",
       "    <tr>\n",
       "      <th>3</th>\n",
       "      <td>4</td>\n",
       "      <td>Databricks: How to Save Files in CSV on Your L...</td>\n",
       "    </tr>\n",
       "    <tr>\n",
       "      <th>4</th>\n",
       "      <td>5</td>\n",
       "      <td>A Step-by-Step Implementation of Gradient Desc...</td>\n",
       "    </tr>\n",
       "    <tr>\n",
       "      <th>...</th>\n",
       "      <td>...</td>\n",
       "      <td>...</td>\n",
       "    </tr>\n",
       "    <tr>\n",
       "      <th>6503</th>\n",
       "      <td>6504</td>\n",
       "      <td>“We” vs “I” — How Should You Talk About Yourse...</td>\n",
       "    </tr>\n",
       "    <tr>\n",
       "      <th>6504</th>\n",
       "      <td>6505</td>\n",
       "      <td>How Donald Trump Markets Himself</td>\n",
       "    </tr>\n",
       "    <tr>\n",
       "      <th>6505</th>\n",
       "      <td>6506</td>\n",
       "      <td>Content and Marketing Beyond Mass Consumption</td>\n",
       "    </tr>\n",
       "    <tr>\n",
       "      <th>6506</th>\n",
       "      <td>6507</td>\n",
       "      <td>5 Questions All Copywriters Should Ask Clients...</td>\n",
       "    </tr>\n",
       "    <tr>\n",
       "      <th>6507</th>\n",
       "      <td>6508</td>\n",
       "      <td>How To Write a Good Business Blog Post</td>\n",
       "    </tr>\n",
       "  </tbody>\n",
       "</table>\n",
       "<p>6508 rows × 2 columns</p>\n",
       "</div>"
      ],
      "text/plain": [
       "        id                                              title\n",
       "0        1  A Beginner’s Guide to Word Embedding with Gens...\n",
       "1        2  Hands-on Graph Neural Networks with PyTorch & ...\n",
       "2        3                       How to Use ggplot2 in Python\n",
       "3        4  Databricks: How to Save Files in CSV on Your L...\n",
       "4        5  A Step-by-Step Implementation of Gradient Desc...\n",
       "...    ...                                                ...\n",
       "6503  6504  “We” vs “I” — How Should You Talk About Yourse...\n",
       "6504  6505                   How Donald Trump Markets Himself\n",
       "6505  6506      Content and Marketing Beyond Mass Consumption\n",
       "6506  6507  5 Questions All Copywriters Should Ask Clients...\n",
       "6507  6508             How To Write a Good Business Blog Post\n",
       "\n",
       "[6508 rows x 2 columns]"
      ]
     },
     "execution_count": 9,
     "metadata": {},
     "output_type": "execute_result"
    }
   ],
   "source": [
    "df = df[['id', 'title']]\n",
    "df"
   ]
  },
  {
   "cell_type": "code",
   "execution_count": 10,
   "id": "23d014e2",
   "metadata": {},
   "outputs": [],
   "source": [
    "df['texto'] = df['title'].str.replace(u\"\\xa0\", u' ')"
   ]
  },
  {
   "cell_type": "code",
   "execution_count": 119,
   "id": "18c99d6e",
   "metadata": {},
   "outputs": [],
   "source": [
    "tokenizer = Tokenizer( oov_token='OOV')"
   ]
  },
  {
   "cell_type": "code",
   "execution_count": 122,
   "id": "01365c7a",
   "metadata": {},
   "outputs": [],
   "source": [
    "tokenizer.fit_on_texts(df['texto'])"
   ]
  },
  {
   "cell_type": "code",
   "execution_count": 13,
   "id": "a4fdf588",
   "metadata": {},
   "outputs": [],
   "source": [
    "dicionario = tokenizer.word_index"
   ]
  },
  {
   "cell_type": "code",
   "execution_count": 14,
   "id": "22d58bd7",
   "metadata": {},
   "outputs": [
    {
     "data": {
      "text/plain": [
       "'A Beginner’s Guide to Word Embedding with Gensim Word2Vec Model'"
      ]
     },
     "execution_count": 14,
     "metadata": {},
     "output_type": "execute_result"
    }
   ],
   "source": [
    "linha = df['texto'][0]\n",
    "linha"
   ]
  },
  {
   "cell_type": "code",
   "execution_count": 15,
   "id": "055ebf80",
   "metadata": {},
   "outputs": [
    {
     "data": {
      "text/plain": [
       "{'to': 1,\n",
       " 'the': 2,\n",
       " 'strong': 3,\n",
       " 'a': 4,\n",
       " 'of': 5,\n",
       " 'how': 6,\n",
       " 'and': 7,\n",
       " 'in': 8,\n",
       " 'your': 9,\n",
       " 'markup': 10,\n",
       " 'for': 11,\n",
       " 'you': 12,\n",
       " 'with': 13,\n",
       " 'is': 14,\n",
       " 'data': 15,\n",
       " 'class': 16,\n",
       " 'why': 17,\n",
       " 'h3': 18,\n",
       " 'i': 19,\n",
       " 'what': 20,\n",
       " 'on': 21,\n",
       " 'learning': 22,\n",
       " 'from': 23,\n",
       " 'an': 24,\n",
       " 'be': 25,\n",
       " 'my': 26,\n",
       " 'writing': 27,\n",
       " 'are': 28,\n",
       " 'it': 29,\n",
       " 'can': 30,\n",
       " 'using': 31,\n",
       " 'ux': 32,\n",
       " 'design': 33,\n",
       " 'machine': 34,\n",
       " 'about': 35,\n",
       " 'do': 36,\n",
       " 'not': 37,\n",
       " 'python': 38,\n",
       " 'ai': 39,\n",
       " 'life': 40,\n",
       " 'that': 41,\n",
       " 'when': 42,\n",
       " 'should': 43,\n",
       " 'we': 44,\n",
       " '5': 45,\n",
       " 'science': 46,\n",
       " 'make': 47,\n",
       " 'need': 48,\n",
       " 'time': 49,\n",
       " 'as': 50,\n",
       " 'more': 51,\n",
       " 'at': 52,\n",
       " '3': 53,\n",
       " 'business': 54,\n",
       " 'or': 55,\n",
       " 'have': 56,\n",
       " 'work': 57,\n",
       " 'new': 58,\n",
       " 'don’t': 59,\n",
       " 'by': 60,\n",
       " 'up': 61,\n",
       " 'write': 62,\n",
       " 'get': 63,\n",
       " 'guide': 64,\n",
       " 'use': 65,\n",
       " 'will': 66,\n",
       " 'marketing': 67,\n",
       " 'ways': 68,\n",
       " 'deep': 69,\n",
       " 'part': 70,\n",
       " 'best': 71,\n",
       " '1': 72,\n",
       " 'first': 73,\n",
       " 'better': 74,\n",
       " '2019': 75,\n",
       " 'product': 76,\n",
       " 'analysis': 77,\n",
       " 'neural': 78,\n",
       " 'know': 79,\n",
       " 'things': 80,\n",
       " 'this': 81,\n",
       " 'future': 82,\n",
       " 'self': 83,\n",
       " 'into': 84,\n",
       " 'case': 85,\n",
       " 'good': 86,\n",
       " 'if': 87,\n",
       " 'one': 88,\n",
       " 'all': 89,\n",
       " 'out': 90,\n",
       " 'like': 91,\n",
       " 'me': 92,\n",
       " 'tips': 93,\n",
       " 'top': 94,\n",
       " '2': 95,\n",
       " 'stop': 96,\n",
       " 'model': 97,\n",
       " 'intelligence': 98,\n",
       " '10': 99,\n",
       " 'networks': 100,\n",
       " 'learned': 101,\n",
       " 'job': 102,\n",
       " 'em': 103,\n",
       " 'building': 104,\n",
       " 'big': 105,\n",
       " 'artificial': 106,\n",
       " 'simple': 107,\n",
       " 'create': 108,\n",
       " 'being': 109,\n",
       " 'startup': 110,\n",
       " 'most': 111,\n",
       " 'way': 112,\n",
       " 'people': 113,\n",
       " 'build': 114,\n",
       " 'our': 115,\n",
       " 'vs': 116,\n",
       " 'making': 117,\n",
       " 'want': 118,\n",
       " 'google': 119,\n",
       " 'social': 120,\n",
       " 'success': 121,\n",
       " 'real': 122,\n",
       " 'day': 123,\n",
       " 'introduction': 124,\n",
       " 'study': 125,\n",
       " 'learn': 126,\n",
       " 'steps': 127,\n",
       " 'user': 128,\n",
       " 'lessons': 129,\n",
       " 'right': 130,\n",
       " '4': 131,\n",
       " 'money': 132,\n",
       " 'content': 133,\n",
       " 'story': 134,\n",
       " 'power': 135,\n",
       " 'app': 136,\n",
       " 'great': 137,\n",
       " 'it’s': 138,\n",
       " 'world': 139,\n",
       " 'writer': 140,\n",
       " 'models': 141,\n",
       " 'medium': 142,\n",
       " 'no': 143,\n",
       " 'so': 144,\n",
       " '6': 145,\n",
       " 'start': 146,\n",
       " 'you’re': 147,\n",
       " 'reasons': 148,\n",
       " 'digital': 149,\n",
       " 'getting': 150,\n",
       " '7': 151,\n",
       " 'web': 152,\n",
       " 'help': 153,\n",
       " 'here’s': 154,\n",
       " 'tech': 155,\n",
       " 'own': 156,\n",
       " 'just': 157,\n",
       " 'their': 158,\n",
       " 'blockchain': 159,\n",
       " 'does': 160,\n",
       " 'career': 161,\n",
       " 'art': 162,\n",
       " 'next': 163,\n",
       " 'than': 164,\n",
       " 'year': 165,\n",
       " 'every': 166,\n",
       " 'find': 167,\n",
       " 'media': 168,\n",
       " 'understanding': 169,\n",
       " 'network': 170,\n",
       " 'yourself': 171,\n",
       " 'code': 172,\n",
       " 'change': 173,\n",
       " 'creating': 174,\n",
       " 'without': 175,\n",
       " 'designer': 176,\n",
       " 'who': 177,\n",
       " 'classification': 178,\n",
       " 'tensorflow': 179,\n",
       " 'market': 180,\n",
       " 'book': 181,\n",
       " 'development': 182,\n",
       " 'us': 183,\n",
       " 'regression': 184,\n",
       " 'before': 185,\n",
       " 'but': 186,\n",
       " 'detection': 187,\n",
       " 'writers': 188,\n",
       " 'step': 189,\n",
       " 'project': 190,\n",
       " 'financial': 191,\n",
       " 'easy': 192,\n",
       " 'three': 193,\n",
       " 'isn’t': 194,\n",
       " 'through': 195,\n",
       " 'bad': 196,\n",
       " 'software': 197,\n",
       " 'aws': 198,\n",
       " 'now': 199,\n",
       " 'customer': 200,\n",
       " 'experience': 201,\n",
       " 'image': 202,\n",
       " 'look': 203,\n",
       " 'never': 204,\n",
       " 'key': 205,\n",
       " 'value': 206,\n",
       " 'made': 207,\n",
       " 'really': 208,\n",
       " 'become': 209,\n",
       " 'designing': 210,\n",
       " 'them': 211,\n",
       " 'read': 212,\n",
       " 'much': 213,\n",
       " 'strategy': 214,\n",
       " 'what’s': 215,\n",
       " 'language': 216,\n",
       " 'computer': 217,\n",
       " 'team': 218,\n",
       " 'important': 219,\n",
       " 'working': 220,\n",
       " 'online': 221,\n",
       " 'productivity': 222,\n",
       " 'improve': 223,\n",
       " 'problem': 224,\n",
       " 'between': 225,\n",
       " 'love': 226,\n",
       " 'technology': 227,\n",
       " 'started': 228,\n",
       " 'too': 229,\n",
       " 'could': 230,\n",
       " 'based': 231,\n",
       " '2020': 232,\n",
       " 'company': 233,\n",
       " 'series': 234,\n",
       " 'its': 235,\n",
       " 'wrong': 236,\n",
       " 'react': 237,\n",
       " 'human': 238,\n",
       " 'research': 239,\n",
       " 'api': 240,\n",
       " 'has': 241,\n",
       " 'go': 242,\n",
       " 'driven': 243,\n",
       " 'predicting': 244,\n",
       " 'designers': 245,\n",
       " 'process': 246,\n",
       " 'keep': 247,\n",
       " 'less': 248,\n",
       " 'system': 249,\n",
       " 'think': 250,\n",
       " 'ideas': 251,\n",
       " 'text': 252,\n",
       " 'instagram': 253,\n",
       " 'home': 254,\n",
       " 'creative': 255,\n",
       " 'nlp': 256,\n",
       " 'brand': 257,\n",
       " 'ui': 258,\n",
       " 'application': 259,\n",
       " 'strategies': 260,\n",
       " 'save': 261,\n",
       " 'ml': 262,\n",
       " 'approach': 263,\n",
       " 'where': 264,\n",
       " 'startups': 265,\n",
       " 'free': 266,\n",
       " 'productive': 267,\n",
       " 'cloud': 268,\n",
       " '0': 269,\n",
       " 'doesn’t': 270,\n",
       " 'r': 271,\n",
       " 'game': 272,\n",
       " 'take': 273,\n",
       " 'everything': 274,\n",
       " 'freelance': 275,\n",
       " 'writer’s': 276,\n",
       " 'needs': 277,\n",
       " 'leadership': 278,\n",
       " 'control': 279,\n",
       " 'i’m': 280,\n",
       " 'two': 281,\n",
       " 'was': 282,\n",
       " 'tell': 283,\n",
       " 'trust': 284,\n",
       " 'brain': 285,\n",
       " 'mobile': 286,\n",
       " 'five': 287,\n",
       " 'let’s': 288,\n",
       " 'stories': 289,\n",
       " 'successful': 290,\n",
       " 'after': 291,\n",
       " 'living': 292,\n",
       " 'over': 293,\n",
       " 'facebook': 294,\n",
       " 'space': 295,\n",
       " 'avoid': 296,\n",
       " 'house': 297,\n",
       " 'industry': 298,\n",
       " 'end': 299,\n",
       " 'mind': 300,\n",
       " 'thinking': 301,\n",
       " 'algorithms': 302,\n",
       " 'tools': 303,\n",
       " 'companies': 304,\n",
       " 'systems': 305,\n",
       " 'android': 306,\n",
       " 'javascript': 307,\n",
       " 'habits': 308,\n",
       " 'finding': 309,\n",
       " 'changing': 310,\n",
       " 'review': 311,\n",
       " 'feature': 312,\n",
       " 'linear': 313,\n",
       " 'back': 314,\n",
       " 'skills': 315,\n",
       " 'open': 316,\n",
       " 'i’ve': 317,\n",
       " 'effective': 318,\n",
       " 'advice': 319,\n",
       " 'pandas': 320,\n",
       " 'scientists': 321,\n",
       " 'testing': 322,\n",
       " 'questions': 323,\n",
       " 'down': 324,\n",
       " 'books': 325,\n",
       " 'years': 326,\n",
       " 'talk': 327,\n",
       " 'break': 328,\n",
       " 'reinforcement': 329,\n",
       " 'state': 330,\n",
       " 'growth': 331,\n",
       " 'enough': 332,\n",
       " 'importance': 333,\n",
       " 'got': 334,\n",
       " 'ask': 335,\n",
       " 'pytorch': 336,\n",
       " 'management': 337,\n",
       " 'starting': 338,\n",
       " 'high': 339,\n",
       " 'they': 340,\n",
       " 'must': 341,\n",
       " 'can’t': 342,\n",
       " 'always': 343,\n",
       " 'might': 344,\n",
       " 'side': 345,\n",
       " 'mistakes': 346,\n",
       " 'idea': 347,\n",
       " 'reality': 348,\n",
       " 'search': 349,\n",
       " 'basics': 350,\n",
       " 'these': 351,\n",
       " 'recognition': 352,\n",
       " 'here': 353,\n",
       " 'privacy': 354,\n",
       " 'set': 355,\n",
       " 'sales': 356,\n",
       " 'daily': 357,\n",
       " 'other': 358,\n",
       " 'becoming': 359,\n",
       " 'thing': 360,\n",
       " 'week': 361,\n",
       " 'investment': 362,\n",
       " 'secret': 363,\n",
       " 'quick': 364,\n",
       " 'fail': 365,\n",
       " 'plan': 366,\n",
       " 'journey': 367,\n",
       " 'done': 368,\n",
       " 'hard': 369,\n",
       " 'personal': 370,\n",
       " 'words': 371,\n",
       " 'functions': 372,\n",
       " 'problems': 373,\n",
       " 'magic': 374,\n",
       " 'small': 375,\n",
       " 'smart': 376,\n",
       " '8': 377,\n",
       " 'js': 378,\n",
       " 'interview': 379,\n",
       " 'care': 380,\n",
       " 'creativity': 381,\n",
       " 'benefits': 382,\n",
       " 'live': 383,\n",
       " 'going': 384,\n",
       " 'feel': 385,\n",
       " 'mad': 386,\n",
       " 'impact': 387,\n",
       " 'email': 388,\n",
       " 'common': 389,\n",
       " 'visualization': 390,\n",
       " 'understand': 391,\n",
       " 'happy': 392,\n",
       " 'actually': 393,\n",
       " 'algorithm': 394,\n",
       " 'age': 395,\n",
       " 'may': 396,\n",
       " 'stock': 397,\n",
       " 'apple': 398,\n",
       " 'which': 399,\n",
       " 'twitter': 400,\n",
       " 'security': 401,\n",
       " 'give': 402,\n",
       " 'principles': 403,\n",
       " 'decision': 404,\n",
       " 'full': 405,\n",
       " 'doing': 406,\n",
       " 'taking': 407,\n",
       " 'let': 408,\n",
       " 'only': 409,\n",
       " 'scratch': 410,\n",
       " 'programming': 411,\n",
       " 'taught': 412,\n",
       " 'segmentation': 413,\n",
       " 'sql': 414,\n",
       " 'culture': 415,\n",
       " 'architecture': 416,\n",
       " 'off': 417,\n",
       " 'framework': 418,\n",
       " 'jobs': 419,\n",
       " 'website': 420,\n",
       " 'fear': 421,\n",
       " 'there': 422,\n",
       " 'list': 423,\n",
       " 'multi': 424,\n",
       " 'test': 425,\n",
       " 'java': 426,\n",
       " 'beyond': 427,\n",
       " 'service': 428,\n",
       " 'reading': 429,\n",
       " 'bitcoin': 430,\n",
       " 'ii': 431,\n",
       " 'components': 432,\n",
       " 'am': 433,\n",
       " 'ultimate': 434,\n",
       " 'projects': 435,\n",
       " 'scientist': 436,\n",
       " 'engineering': 437,\n",
       " 'deal': 438,\n",
       " 'practical': 439,\n",
       " 'explained': 440,\n",
       " 'performance': 441,\n",
       " 'processing': 442,\n",
       " 'analytics': 443,\n",
       " 'manage': 444,\n",
       " 'markets': 445,\n",
       " 'k': 446,\n",
       " 'word': 447,\n",
       " 'setting': 448,\n",
       " 'goals': 449,\n",
       " 'mental': 450,\n",
       " 'succeed': 451,\n",
       " 'anxiety': 452,\n",
       " 'support': 453,\n",
       " 'even': 454,\n",
       " 'short': 455,\n",
       " 'block': 456,\n",
       " 'seo': 457,\n",
       " 'little': 458,\n",
       " 'cars': 459,\n",
       " 'agile': 460,\n",
       " 'powerful': 461,\n",
       " 'bias': 462,\n",
       " 'perfect': 463,\n",
       " 'object': 464,\n",
       " 'types': 465,\n",
       " 'applications': 466,\n",
       " 'long': 467,\n",
       " 'apps': 468,\n",
       " 'music': 469,\n",
       " 'again': 470,\n",
       " 'run': 471,\n",
       " 'techniques': 472,\n",
       " 'implementation': 473,\n",
       " 'training': 474,\n",
       " 'leaders': 475,\n",
       " 'basic': 476,\n",
       " 'stay': 477,\n",
       " 'did': 478,\n",
       " 'features': 479,\n",
       " 'hiring': 480,\n",
       " 'past': 481,\n",
       " 'video': 482,\n",
       " 'makes': 483,\n",
       " 'entrepreneur': 484,\n",
       " 'behind': 485,\n",
       " 'works': 486,\n",
       " 'attention': 487,\n",
       " 'beginners': 488,\n",
       " '20': 489,\n",
       " 'complete': 490,\n",
       " 'driving': 491,\n",
       " 's': 492,\n",
       " 'information': 493,\n",
       " 'healthcare': 494,\n",
       " 'minutes': 495,\n",
       " 'cnn': 496,\n",
       " 'convolutional': 497,\n",
       " 'introducing': 498,\n",
       " 'ever': 499,\n",
       " 'choose': 500,\n",
       " 'visual': 501,\n",
       " 'phone': 502,\n",
       " 'non': 503,\n",
       " 'four': 504,\n",
       " '000': 505,\n",
       " 'still': 506,\n",
       " 'investing': 507,\n",
       " 'inside': 508,\n",
       " 'america': 509,\n",
       " 'would': 510,\n",
       " 'boost': 511,\n",
       " 'health': 512,\n",
       " 'freelancer': 513,\n",
       " 'while': 514,\n",
       " 'amazon': 515,\n",
       " 'scraping': 516,\n",
       " 'innovation': 517,\n",
       " 'trends': 518,\n",
       " 'sentiment': 519,\n",
       " 'running': 520,\n",
       " 'challenge': 521,\n",
       " 'breaking': 522,\n",
       " 'feedback': 523,\n",
       " 'won’t': 524,\n",
       " 'audience': 525,\n",
       " 'analyzing': 526,\n",
       " 'tutorial': 527,\n",
       " 'leader': 528,\n",
       " 'different': 529,\n",
       " 'ios': 530,\n",
       " 'businesses': 531,\n",
       " 'random': 532,\n",
       " '9': 533,\n",
       " 'method': 534,\n",
       " 'ahead': 535,\n",
       " 'thought': 536,\n",
       " 'fiction': 537,\n",
       " 'win': 538,\n",
       " '101': 539,\n",
       " 'mindset': 540,\n",
       " 'theory': 541,\n",
       " 'ads': 542,\n",
       " 'old': 543,\n",
       " 'face': 544,\n",
       " 'climate': 545,\n",
       " 'customers': 546,\n",
       " 'modern': 547,\n",
       " 'relationship': 548,\n",
       " 'come': 549,\n",
       " 'cost': 550,\n",
       " 'teach': 551,\n",
       " 'optimization': 552,\n",
       " 'internet': 553,\n",
       " 'ethics': 554,\n",
       " 'quality': 555,\n",
       " 'decisions': 556,\n",
       " 'reason': 557,\n",
       " 'news': 558,\n",
       " 'away': 559,\n",
       " 'relationships': 560,\n",
       " 'clients': 561,\n",
       " 'storytelling': 562,\n",
       " 'trying': 563,\n",
       " 'transformation': 564,\n",
       " 'trading': 565,\n",
       " 'platform': 566,\n",
       " 'keras': 567,\n",
       " 'prices': 568,\n",
       " 'knowledge': 569,\n",
       " 'price': 570,\n",
       " 'solve': 571,\n",
       " 'today': 572,\n",
       " 'looking': 573,\n",
       " 'fast': 574,\n",
       " 'many': 575,\n",
       " 'worth': 576,\n",
       " 'cryptocurrency': 577,\n",
       " 'having': 578,\n",
       " '15': 579,\n",
       " 'freelancing': 580,\n",
       " 'voice': 581,\n",
       " 'probably': 582,\n",
       " 'exploration': 583,\n",
       " 'facial': 584,\n",
       " 'means': 585,\n",
       " 'dream': 586,\n",
       " 'question': 587,\n",
       " 'docker': 588,\n",
       " 'post': 589,\n",
       " 'hit': 590,\n",
       " 'well': 591,\n",
       " 'overview': 592,\n",
       " 'any': 593,\n",
       " 'rise': 594,\n",
       " 'matter': 595,\n",
       " 'last': 596,\n",
       " 'vision': 597,\n",
       " 'lead': 598,\n",
       " 'helped': 599,\n",
       " 'methods': 600,\n",
       " 'evolution': 601,\n",
       " 'community': 602,\n",
       " 'line': 603,\n",
       " 'something': 604,\n",
       " 'planning': 605,\n",
       " 'employees': 606,\n",
       " 'bot': 607,\n",
       " 'point': 608,\n",
       " 'accessibility': 609,\n",
       " 'increase': 610,\n",
       " 'giving': 611,\n",
       " 'sell': 612,\n",
       " 'move': 613,\n",
       " 'copy': 614,\n",
       " 'death': 615,\n",
       " 'brands': 616,\n",
       " 'happiness': 617,\n",
       " 'style': 618,\n",
       " 'grow': 619,\n",
       " 'publish': 620,\n",
       " 'you’ve': 621,\n",
       " 'economy': 622,\n",
       " 'stocks': 623,\n",
       " 'role': 624,\n",
       " 'hate': 625,\n",
       " 'someone': 626,\n",
       " 'we’re': 627,\n",
       " 'level': 628,\n",
       " 'forget': 629,\n",
       " 'microsoft': 630,\n",
       " 'difference': 631,\n",
       " 'intuition': 632,\n",
       " 'public': 633,\n",
       " 'days': 634,\n",
       " 'month': 635,\n",
       " 'novel': 636,\n",
       " 'path': 637,\n",
       " 'metrics': 638,\n",
       " 'users': 639,\n",
       " 'friends': 640,\n",
       " 'patterns': 641,\n",
       " 'follow': 642,\n",
       " 'everyone': 643,\n",
       " 'images': 644,\n",
       " 'paper': 645,\n",
       " 'spark': 646,\n",
       " 'exploratory': 647,\n",
       " '12': 648,\n",
       " 'natural': 649,\n",
       " 'perspective': 650,\n",
       " 'focus': 651,\n",
       " 'solving': 652,\n",
       " 'tool': 653,\n",
       " 'selection': 654,\n",
       " 'risk': 655,\n",
       " 'shouldn’t': 656,\n",
       " 'autonomous': 657,\n",
       " 'augmented': 658,\n",
       " 'smarter': 659,\n",
       " 'neighbors': 660,\n",
       " 'history': 661,\n",
       " 'workplace': 662,\n",
       " 'instead': 663,\n",
       " 'beginner’s': 664,\n",
       " 'automate': 665,\n",
       " 'reviews': 666,\n",
       " 'black': 667,\n",
       " 'experiences': 668,\n",
       " 'front': 669,\n",
       " 'meaning': 670,\n",
       " 'stuck': 671,\n",
       " 'purpose': 672,\n",
       " 'blogging': 673,\n",
       " 'person': 674,\n",
       " 'gets': 675,\n",
       " 'report': 676,\n",
       " 'dimension': 677,\n",
       " 'pipeline': 678,\n",
       " 'used': 679,\n",
       " 'clustering': 680,\n",
       " 'forecasting': 681,\n",
       " 'employee': 682,\n",
       " 'remote': 683,\n",
       " 'meetings': 684,\n",
       " 'scale': 685,\n",
       " 'fix': 686,\n",
       " 'chatbot': 687,\n",
       " 'routine': 688,\n",
       " 'page': 689,\n",
       " 'intro': 690,\n",
       " 'source': 691,\n",
       " 'statistical': 692,\n",
       " 'saving': 693,\n",
       " '50': 694,\n",
       " 'iot': 695,\n",
       " 'essential': 696,\n",
       " 'modeling': 697,\n",
       " 'interactive': 698,\n",
       " 'products': 699,\n",
       " 'pitch': 700,\n",
       " 'angular': 701,\n",
       " 'biggest': 702,\n",
       " '30': 703,\n",
       " 'income': 704,\n",
       " 'car': 705,\n",
       " 'negative': 706,\n",
       " 'amp': 707,\n",
       " 'exploring': 708,\n",
       " 'overcome': 709,\n",
       " 'native': 710,\n",
       " 'humans': 711,\n",
       " 'against': 712,\n",
       " 'teams': 713,\n",
       " 'computing': 714,\n",
       " 'author': 715,\n",
       " 'blog': 716,\n",
       " '”': 717,\n",
       " 'generative': 718,\n",
       " 'debt': 719,\n",
       " 'yet': 720,\n",
       " 'enterprise': 721,\n",
       " 'lost': 722,\n",
       " 'influence': 723,\n",
       " 'nearest': 724,\n",
       " 'netflix': 725,\n",
       " 'matters': 726,\n",
       " 'automation': 727,\n",
       " 'graph': 728,\n",
       " 'recommender': 729,\n",
       " 'dark': 730,\n",
       " 'playing': 731,\n",
       " 'usability': 732,\n",
       " 'show': 733,\n",
       " 'rules': 734,\n",
       " 'skill': 735,\n",
       " 'friend': 736,\n",
       " 'master': 737,\n",
       " 'inner': 738,\n",
       " 'mistake': 739,\n",
       " 'comparing': 740,\n",
       " 'another': 741,\n",
       " 'reduce': 742,\n",
       " 'investor': 743,\n",
       " 'because': 744,\n",
       " 'optimizing': 745,\n",
       " 'lstm': 746,\n",
       " 'dataset': 747,\n",
       " 'u': 748,\n",
       " 'map': 749,\n",
       " 'values': 750,\n",
       " 'rich': 751,\n",
       " 'goal': 752,\n",
       " 'play': 753,\n",
       " 'developer': 754,\n",
       " 'develop': 755,\n",
       " 'choosing': 756,\n",
       " 'e': 757,\n",
       " 'potential': 758,\n",
       " 'stand': 759,\n",
       " 'pro': 760,\n",
       " 'been': 761,\n",
       " 'changed': 762,\n",
       " 'mobility': 763,\n",
       " 'you’ll': 764,\n",
       " 'technical': 765,\n",
       " 'turning': 766,\n",
       " 'speed': 767,\n",
       " 'budget': 768,\n",
       " 'statistics': 769,\n",
       " 'publishing': 770,\n",
       " 'managing': 771,\n",
       " 'worst': 772,\n",
       " 'letter': 773,\n",
       " 'robots': 774,\n",
       " '\\u200a—\\u200amarket': 775,\n",
       " 'six': 776,\n",
       " 'empathy': 777,\n",
       " 'hack': 778,\n",
       " 'term': 779,\n",
       " 'try': 780,\n",
       " 'course': 781,\n",
       " 'survival': 782,\n",
       " 'prediction': 783,\n",
       " 'welcome': 784,\n",
       " 'vue': 785,\n",
       " 'maps': 786,\n",
       " 'rest': 787,\n",
       " 'math': 788,\n",
       " 'mapping': 789,\n",
       " 'far': 790,\n",
       " 'boss': 791,\n",
       " 'political': 792,\n",
       " 'beautiful': 793,\n",
       " 'city': 794,\n",
       " 'hidden': 795,\n",
       " '11': 796,\n",
       " 'habit': 797,\n",
       " 'tricks': 798,\n",
       " 'food': 799,\n",
       " 'trick': 800,\n",
       " 'generate': 801,\n",
       " 'coding': 802,\n",
       " 'around': 803,\n",
       " 'developing': 804,\n",
       " 'myself': 805,\n",
       " 'became': 806,\n",
       " 'crypto': 807,\n",
       " 'influencers': 808,\n",
       " 'notes': 809,\n",
       " 'times': 810,\n",
       " 'matrix': 811,\n",
       " 'kaggle': 812,\n",
       " 'faster': 813,\n",
       " 'efficient': 814,\n",
       " 'fake': 815,\n",
       " 'practice': 816,\n",
       " 'single': 817,\n",
       " 'silicon': 818,\n",
       " 'fun': 819,\n",
       " 'rate': 820,\n",
       " 'turn': 821,\n",
       " 'stress': 822,\n",
       " 'call': 823,\n",
       " 'sense': 824,\n",
       " 'losing': 825,\n",
       " 'selling': 826,\n",
       " 'beat': 827,\n",
       " 'meeting': 828,\n",
       " 'identity': 829,\n",
       " 'following': 830,\n",
       " 'college': 831,\n",
       " 'latest': 832,\n",
       " 'expert': 833,\n",
       " 'autoencoders': 834,\n",
       " 'reduction': 835,\n",
       " 'growing': 836,\n",
       " 'predict': 837,\n",
       " 'dynamic': 838,\n",
       " 'portfolio': 839,\n",
       " 'traffic': 840,\n",
       " 'results': 841,\n",
       " 'validation': 842,\n",
       " 'wish': 843,\n",
       " 'prepare': 844,\n",
       " 'chain': 845,\n",
       " 'net': 846,\n",
       " 'lives': 847,\n",
       " 'thanks': 848,\n",
       " 'commerce': 849,\n",
       " 'eyes': 850,\n",
       " 'winning': 851,\n",
       " 'asking': 852,\n",
       " 'libraries': 853,\n",
       " 'transfer': 854,\n",
       " 'learnt': 855,\n",
       " 'github': 856,\n",
       " 'example': 857,\n",
       " 'deploy': 858,\n",
       " 'multiple': 859,\n",
       " 'pipelines': 860,\n",
       " 'selenium': 861,\n",
       " 'ready': 862,\n",
       " 'traditional': 863,\n",
       " 'memory': 864,\n",
       " 'practices': 865,\n",
       " 'edge': 866,\n",
       " 'energy': 867,\n",
       " 'fall': 868,\n",
       " 'games': 869,\n",
       " 'track': 870,\n",
       " 'pyspark': 871,\n",
       " 'article': 872,\n",
       " 'sleep': 873,\n",
       " 'examples': 874,\n",
       " 'hire': 875,\n",
       " 'failure': 876,\n",
       " 'challenges': 877,\n",
       " 'see': 878,\n",
       " 'same': 879,\n",
       " 'b': 880,\n",
       " 'virtual': 881,\n",
       " 'primer': 882,\n",
       " 'measure': 883,\n",
       " 'fit': 884,\n",
       " 'choice': 885,\n",
       " 'there’s': 886,\n",
       " 'aren’t': 887,\n",
       " 'professional': 888,\n",
       " 'road': 889,\n",
       " 'bert': 890,\n",
       " 'easier': 891,\n",
       " 'share': 892,\n",
       " 'low': 893,\n",
       " 'optimize': 894,\n",
       " 'anything': 895,\n",
       " 'quantum': 896,\n",
       " 'adversarial': 897,\n",
       " '100': 898,\n",
       " 'creation': 899,\n",
       " 'credit': 900,\n",
       " 'improving': 901,\n",
       " 'branding': 902,\n",
       " 'action': 903,\n",
       " 'raspberry': 904,\n",
       " 'his': 905,\n",
       " 'freelancers': 906,\n",
       " 'major': 907,\n",
       " 'youtube': 908,\n",
       " 'per': 909,\n",
       " 'git': 910,\n",
       " 'cross': 911,\n",
       " 'apache': 912,\n",
       " 'bring': 913,\n",
       " 'instance': 914,\n",
       " 'didn’t': 915,\n",
       " 'corporate': 916,\n",
       " 'local': 917,\n",
       " 'were': 918,\n",
       " '40': 919,\n",
       " 'view': 920,\n",
       " 'color': 921,\n",
       " 'implementing': 922,\n",
       " 't': 923,\n",
       " 'rails': 924,\n",
       " 'head': 925,\n",
       " 'keys': 926,\n",
       " 'law': 927,\n",
       " 'policy': 928,\n",
       " 'artist': 929,\n",
       " 'shape': 930,\n",
       " 'fintech': 931,\n",
       " 'demand': 932,\n",
       " 'alternative': 933,\n",
       " 'bought': 934,\n",
       " 'production': 935,\n",
       " 'robot': 936,\n",
       " 'recommendation': 937,\n",
       " 'visualizing': 938,\n",
       " 'detecting': 939,\n",
       " 'sampling': 940,\n",
       " 'missing': 941,\n",
       " 'function': 942,\n",
       " 'store': 943,\n",
       " 'confidence': 944,\n",
       " 'knew': 945,\n",
       " 'waste': 946,\n",
       " 'embrace': 947,\n",
       " 'quit': 948,\n",
       " 'solution': 949,\n",
       " 'truth': 950,\n",
       " 'revolution': 951,\n",
       " 'china': 952,\n",
       " 'dollar': 953,\n",
       " 'critical': 954,\n",
       " 'error': 955,\n",
       " 'entrepreneurs': 956,\n",
       " '5g': 957,\n",
       " 'topic': 958,\n",
       " 'almost': 959,\n",
       " 'serverless': 960,\n",
       " 'numpy': 961,\n",
       " 'analyze': 962,\n",
       " 'influencer': 963,\n",
       " 'government': 964,\n",
       " 'towards': 965,\n",
       " 'global': 966,\n",
       " 'secrets': 967,\n",
       " 'order': 968,\n",
       " 'early': 969,\n",
       " 'communication': 970,\n",
       " 'crisis': 971,\n",
       " 'already': 972,\n",
       " 'super': 973,\n",
       " '21st': 974,\n",
       " 'century': 975,\n",
       " 'services': 976,\n",
       " 'setup': 977,\n",
       " 'environment': 978,\n",
       " 'man': 979,\n",
       " 'complex': 980,\n",
       " 'under': 981,\n",
       " 'implement': 982,\n",
       " 'chatbots': 983,\n",
       " 'toxic': 984,\n",
       " 'investors': 985,\n",
       " 'general': 986,\n",
       " 'graphs': 987,\n",
       " 'logistic': 988,\n",
       " 'task': 989,\n",
       " 'burnout': 990,\n",
       " 'manager': 991,\n",
       " 'english': 992,\n",
       " 'everyday': 993,\n",
       " 'travel': 994,\n",
       " 'engineer': 995,\n",
       " 'failed': 996,\n",
       " 'principal': 997,\n",
       " 'that’s': 998,\n",
       " 'x': 999,\n",
       " 'often': 1000,\n",
       " ...}"
      ]
     },
     "execution_count": 15,
     "metadata": {},
     "output_type": "execute_result"
    }
   ],
   "source": [
    "dicionario"
   ]
  },
  {
   "cell_type": "code",
   "execution_count": 16,
   "id": "8cb7f300",
   "metadata": {},
   "outputs": [
    {
     "data": {
      "text/plain": [
       "[[4, 664, 64, 1, 447, 1492, 13, 2425, 3608, 97]]"
      ]
     },
     "execution_count": 16,
     "metadata": {},
     "output_type": "execute_result"
    }
   ],
   "source": [
    "tokenizer.texts_to_sequences([linha])"
   ]
  },
  {
   "cell_type": "markdown",
   "id": "0254c9c2",
   "metadata": {},
   "source": [
    "# Codigo para gerar sequencias com base na lista de palavras\n",
    "[\n",
    "    [4, 664],\n",
    "    [4, 664, 64],\n",
    "    [4, 664, 64, 1],\n",
    "    [4, 664, 64, 1, 447],\n",
    "    [4, 664, 64, 1, 447, 1492],\n",
    "    [4, 664, 64, 1, 447, 1492, 13],\n",
    "    [4, 664, 64, 1, 447, 1492, 13, 2425],\n",
    "    [4, 664, 64, 1, 447, 1492, 13, 2425, 3608],\n",
    "    [4, 664, 64, 1, 447, 1492, 13, 2425, 3608, 97],\n",
    "]"
   ]
  },
  {
   "cell_type": "code",
   "execution_count": 17,
   "id": "e2a79ec5",
   "metadata": {},
   "outputs": [],
   "source": [
    "lista_sequencias = []\n",
    "maior_sequencia = 0\n",
    "for linha in df['texto']:\n",
    "    # linha = df['texto'][0]\n",
    "    token_list = tokenizer.texts_to_sequences([linha])[0]\n",
    "    tamanho_sequencia = len(token_list)\n",
    "    for i in range(1, tamanho_sequencia):\n",
    "        n_grams = token_list[:i + 1]\n",
    "        lista_sequencias.append(n_grams)\n",
    "        if tamanho_sequencia > maior_sequencia:\n",
    "            maior_sequencia = tamanho_sequencia\n",
    "# print(lista_sequencias)"
   ]
  },
  {
   "cell_type": "code",
   "execution_count": 37,
   "id": "fc5afa6d",
   "metadata": {},
   "outputs": [
    {
     "data": {
      "text/plain": [
       "[[4, 664],\n",
       " [4, 664, 64],\n",
       " [4, 664, 64, 1],\n",
       " [4, 664, 64, 1, 447],\n",
       " [4, 664, 64, 1, 447, 1492],\n",
       " [4, 664, 64, 1, 447, 1492, 13],\n",
       " [4, 664, 64, 1, 447, 1492, 13, 2425],\n",
       " [4, 664, 64, 1, 447, 1492, 13, 2425, 3608],\n",
       " [4, 664, 64, 1, 447, 1492, 13, 2425, 3608, 97],\n",
       " [1827, 21]]"
      ]
     },
     "execution_count": 37,
     "metadata": {},
     "output_type": "execute_result"
    }
   ],
   "source": [
    "# lista_sequencias\n",
    "lista_sequencias[:10]"
   ]
  },
  {
   "cell_type": "code",
   "execution_count": 19,
   "id": "53dbc532",
   "metadata": {},
   "outputs": [
    {
     "data": {
      "text/plain": [
       "38"
      ]
     },
     "execution_count": 19,
     "metadata": {},
     "output_type": "execute_result"
    }
   ],
   "source": [
    "maior_sequencia"
   ]
  },
  {
   "cell_type": "code",
   "execution_count": 20,
   "id": "485f6286",
   "metadata": {},
   "outputs": [],
   "source": [
    "sequencias_padded = pad_sequences(lista_sequencias)"
   ]
  },
  {
   "cell_type": "code",
   "execution_count": 21,
   "id": "60327582",
   "metadata": {},
   "outputs": [
    {
     "data": {
      "text/plain": [
       "(47594, 38)"
      ]
     },
     "execution_count": 21,
     "metadata": {},
     "output_type": "execute_result"
    }
   ],
   "source": [
    "sequencias_padded.shape"
   ]
  },
  {
   "cell_type": "code",
   "execution_count": 41,
   "id": "9092d5af",
   "metadata": {},
   "outputs": [
    {
     "data": {
      "text/plain": [
       "array([   0,    0,    0,    0,    0,    0,    0,    0,    0,    0,    0,\n",
       "          0,    0,    0,    0,    0,    0,    0,    0,    0,    0,    0,\n",
       "          0,    0,    0,    0,    0,    0,    0,    0,    0,    0,    4,\n",
       "        664,   64,    1,  447, 1492])"
      ]
     },
     "execution_count": 41,
     "metadata": {},
     "output_type": "execute_result"
    }
   ],
   "source": [
    "sequencias_padded[4]"
   ]
  },
  {
   "cell_type": "code",
   "execution_count": 23,
   "id": "3f53c7ad",
   "metadata": {},
   "outputs": [
    {
     "data": {
      "text/plain": [
       "array([  0,   0,   0,   0,   0,   0,   0,   0,   0,   0,   0,   0,   0,\n",
       "         0,   0,   0,   0,   0,   0,   0,   0,   0,   0,   0,   0,   0,\n",
       "         0,   0,   0,   0,   0,   0,   0,   4, 664,  64,   1])"
      ]
     },
     "execution_count": 23,
     "metadata": {},
     "output_type": "execute_result"
    }
   ],
   "source": [
    "linha = sequencias_padded[3]\n",
    "entrada = linha[:-1]\n",
    "entrada"
   ]
  },
  {
   "cell_type": "code",
   "execution_count": 24,
   "id": "e9ea2232",
   "metadata": {},
   "outputs": [
    {
     "data": {
      "text/plain": [
       "447"
      ]
     },
     "execution_count": 24,
     "metadata": {},
     "output_type": "execute_result"
    }
   ],
   "source": [
    "saida = linha[-1]\n",
    "saida"
   ]
  },
  {
   "cell_type": "code",
   "execution_count": 42,
   "id": "b6ed1eda",
   "metadata": {},
   "outputs": [
    {
     "data": {
      "text/plain": [
       "array([  0,   0,   0,   0,   0,   0,   0,   0,   0,   0,   0,   0,   0,\n",
       "         0,   0,   0,   0,   0,   0,   0,   0,   0,   0,   0,   0,   0,\n",
       "         0,   0,   0,   0,   0,   0,   0,   4, 664,  64,   1, 447])"
      ]
     },
     "execution_count": 42,
     "metadata": {},
     "output_type": "execute_result"
    }
   ],
   "source": [
    "sequencias_padded[3]"
   ]
  },
  {
   "cell_type": "code",
   "execution_count": 43,
   "id": "f71a4d8f",
   "metadata": {},
   "outputs": [
    {
     "data": {
      "text/plain": [
       "array([  0,   0,   0,   0,   0,   0,   0,   0,   0,   0,   0,   0,   0,\n",
       "         0,   0,   0,   0,   0,   0,   0,   0,   0,   0,   0,   0,   0,\n",
       "         0,   0,   0,   0,   0,   0,   0,   4, 664,  64,   1])"
      ]
     },
     "execution_count": 43,
     "metadata": {},
     "output_type": "execute_result"
    }
   ],
   "source": [
    "X[3]"
   ]
  },
  {
   "cell_type": "code",
   "execution_count": 45,
   "id": "9b2d8815",
   "metadata": {},
   "outputs": [
    {
     "data": {
      "text/plain": [
       "447"
      ]
     },
     "execution_count": 45,
     "metadata": {},
     "output_type": "execute_result"
    }
   ],
   "source": [
    "Y_temp[3]"
   ]
  },
  {
   "cell_type": "code",
   "execution_count": 46,
   "id": "663e7f23",
   "metadata": {},
   "outputs": [
    {
     "data": {
      "text/plain": [
       "array([0., 0., 0., ..., 0., 0., 0.])"
      ]
     },
     "execution_count": 46,
     "metadata": {},
     "output_type": "execute_result"
    }
   ],
   "source": [
    "Y[3]"
   ]
  },
  {
   "cell_type": "code",
   "execution_count": 25,
   "id": "b71405f6",
   "metadata": {},
   "outputs": [
    {
     "data": {
      "text/plain": [
       "array([  0,   0,   0,   0,   0,   0,   0,   0,   0,   0,   0,   0,   0,\n",
       "         0,   0,   0,   0,   0,   0,   0,   0,   0,   0,   0,   0,   0,\n",
       "         0,   0,   0,   0,   0,   0,   0,   4, 664,  64,   1])"
      ]
     },
     "execution_count": 25,
     "metadata": {},
     "output_type": "execute_result"
    }
   ],
   "source": [
    "X = sequencias_padded[:, :-1]\n",
    "X[3]"
   ]
  },
  {
   "cell_type": "code",
   "execution_count": 26,
   "id": "8782f4b6",
   "metadata": {},
   "outputs": [
    {
     "data": {
      "text/plain": [
       "447"
      ]
     },
     "execution_count": 26,
     "metadata": {},
     "output_type": "execute_result"
    }
   ],
   "source": [
    "Y_temp = sequencias_padded[:, -1]\n",
    "Y_temp[3]"
   ]
  },
  {
   "cell_type": "code",
   "execution_count": 27,
   "id": "e576d71d",
   "metadata": {},
   "outputs": [],
   "source": [
    "Y = to_categorical(Y_temp)"
   ]
  },
  {
   "cell_type": "code",
   "execution_count": 28,
   "id": "8c817c18",
   "metadata": {},
   "outputs": [
    {
     "data": {
      "text/plain": [
       "(47594, 8543)"
      ]
     },
     "execution_count": 28,
     "metadata": {},
     "output_type": "execute_result"
    }
   ],
   "source": [
    "Y.shape"
   ]
  },
  {
   "cell_type": "code",
   "execution_count": 29,
   "id": "a6fe6d4f",
   "metadata": {},
   "outputs": [
    {
     "name": "stderr",
     "output_type": "stream",
     "text": [
      "C:\\Users\\anton\\AppData\\Roaming\\Python\\Python310\\site-packages\\keras\\src\\layers\\core\\embedding.py:86: UserWarning: Argument `input_length` is deprecated. Just remove it.\n",
      "  warnings.warn(\n"
     ]
    },
    {
     "data": {
      "text/html": [
       "<pre style=\"white-space:pre;overflow-x:auto;line-height:normal;font-family:Menlo,'DejaVu Sans Mono',consolas,'Courier New',monospace\"><span style=\"font-weight: bold\">Model: \"sequential\"</span>\n",
       "</pre>\n"
      ],
      "text/plain": [
       "\u001b[1mModel: \"sequential\"\u001b[0m\n"
      ]
     },
     "metadata": {},
     "output_type": "display_data"
    },
    {
     "data": {
      "text/html": [
       "<pre style=\"white-space:pre;overflow-x:auto;line-height:normal;font-family:Menlo,'DejaVu Sans Mono',consolas,'Courier New',monospace\">┏━━━━━━━━━━━━━━━━━━━━━━━━━━━━━━━━━━━━━━┳━━━━━━━━━━━━━━━━━━━━━━━━━━━━━┳━━━━━━━━━━━━━━━━━┓\n",
       "┃<span style=\"font-weight: bold\"> Layer (type)                         </span>┃<span style=\"font-weight: bold\"> Output Shape                </span>┃<span style=\"font-weight: bold\">         Param # </span>┃\n",
       "┡━━━━━━━━━━━━━━━━━━━━━━━━━━━━━━━━━━━━━━╇━━━━━━━━━━━━━━━━━━━━━━━━━━━━━╇━━━━━━━━━━━━━━━━━┩\n",
       "│ embedding (<span style=\"color: #0087ff; text-decoration-color: #0087ff\">Embedding</span>)                │ ?                           │     <span style=\"color: #00af00; text-decoration-color: #00af00\">0</span> (unbuilt) │\n",
       "├──────────────────────────────────────┼─────────────────────────────┼─────────────────┤\n",
       "│ bidirectional (<span style=\"color: #0087ff; text-decoration-color: #0087ff\">Bidirectional</span>)        │ ?                           │     <span style=\"color: #00af00; text-decoration-color: #00af00\">0</span> (unbuilt) │\n",
       "├──────────────────────────────────────┼─────────────────────────────┼─────────────────┤\n",
       "│ dense (<span style=\"color: #0087ff; text-decoration-color: #0087ff\">Dense</span>)                        │ ?                           │     <span style=\"color: #00af00; text-decoration-color: #00af00\">0</span> (unbuilt) │\n",
       "└──────────────────────────────────────┴─────────────────────────────┴─────────────────┘\n",
       "</pre>\n"
      ],
      "text/plain": [
       "┏━━━━━━━━━━━━━━━━━━━━━━━━━━━━━━━━━━━━━━┳━━━━━━━━━━━━━━━━━━━━━━━━━━━━━┳━━━━━━━━━━━━━━━━━┓\n",
       "┃\u001b[1m \u001b[0m\u001b[1mLayer (type)                        \u001b[0m\u001b[1m \u001b[0m┃\u001b[1m \u001b[0m\u001b[1mOutput Shape               \u001b[0m\u001b[1m \u001b[0m┃\u001b[1m \u001b[0m\u001b[1m        Param #\u001b[0m\u001b[1m \u001b[0m┃\n",
       "┡━━━━━━━━━━━━━━━━━━━━━━━━━━━━━━━━━━━━━━╇━━━━━━━━━━━━━━━━━━━━━━━━━━━━━╇━━━━━━━━━━━━━━━━━┩\n",
       "│ embedding (\u001b[38;5;33mEmbedding\u001b[0m)                │ ?                           │     \u001b[38;5;34m0\u001b[0m (unbuilt) │\n",
       "├──────────────────────────────────────┼─────────────────────────────┼─────────────────┤\n",
       "│ bidirectional (\u001b[38;5;33mBidirectional\u001b[0m)        │ ?                           │     \u001b[38;5;34m0\u001b[0m (unbuilt) │\n",
       "├──────────────────────────────────────┼─────────────────────────────┼─────────────────┤\n",
       "│ dense (\u001b[38;5;33mDense\u001b[0m)                        │ ?                           │     \u001b[38;5;34m0\u001b[0m (unbuilt) │\n",
       "└──────────────────────────────────────┴─────────────────────────────┴─────────────────┘\n"
      ]
     },
     "metadata": {},
     "output_type": "display_data"
    },
    {
     "data": {
      "text/html": [
       "<pre style=\"white-space:pre;overflow-x:auto;line-height:normal;font-family:Menlo,'DejaVu Sans Mono',consolas,'Courier New',monospace\"><span style=\"font-weight: bold\"> Total params: </span><span style=\"color: #00af00; text-decoration-color: #00af00\">0</span> (0.00 B)\n",
       "</pre>\n"
      ],
      "text/plain": [
       "\u001b[1m Total params: \u001b[0m\u001b[38;5;34m0\u001b[0m (0.00 B)\n"
      ]
     },
     "metadata": {},
     "output_type": "display_data"
    },
    {
     "data": {
      "text/html": [
       "<pre style=\"white-space:pre;overflow-x:auto;line-height:normal;font-family:Menlo,'DejaVu Sans Mono',consolas,'Courier New',monospace\"><span style=\"font-weight: bold\"> Trainable params: </span><span style=\"color: #00af00; text-decoration-color: #00af00\">0</span> (0.00 B)\n",
       "</pre>\n"
      ],
      "text/plain": [
       "\u001b[1m Trainable params: \u001b[0m\u001b[38;5;34m0\u001b[0m (0.00 B)\n"
      ]
     },
     "metadata": {},
     "output_type": "display_data"
    },
    {
     "data": {
      "text/html": [
       "<pre style=\"white-space:pre;overflow-x:auto;line-height:normal;font-family:Menlo,'DejaVu Sans Mono',consolas,'Courier New',monospace\"><span style=\"font-weight: bold\"> Non-trainable params: </span><span style=\"color: #00af00; text-decoration-color: #00af00\">0</span> (0.00 B)\n",
       "</pre>\n"
      ],
      "text/plain": [
       "\u001b[1m Non-trainable params: \u001b[0m\u001b[38;5;34m0\u001b[0m (0.00 B)\n"
      ]
     },
     "metadata": {},
     "output_type": "display_data"
    }
   ],
   "source": [
    "model = Sequential()\n",
    "model.add(Embedding(Y.shape[1], 100, input_length=maior_sequencia))\n",
    "model.add(Bidirectional(LSTM(150)))\n",
    "# model.add(Dense(64, activation='relu'))\n",
    "model.add(Dense(Y.shape[1], activation='softmax'))\n",
    "model.summary()"
   ]
  },
  {
   "cell_type": "code",
   "execution_count": 30,
   "id": "bace3b79",
   "metadata": {},
   "outputs": [],
   "source": [
    "adam = tf.keras.optimizers.Adam(learning_rate=0.001)"
   ]
  },
  {
   "cell_type": "code",
   "execution_count": 31,
   "id": "e478ba66",
   "metadata": {},
   "outputs": [],
   "source": [
    "model.compile(loss='categorical_crossentropy', optimizer = adam, metrics = ['accuracy'])"
   ]
  },
  {
   "cell_type": "code",
   "execution_count": 32,
   "id": "8317a3b9",
   "metadata": {
    "scrolled": true
   },
   "outputs": [
    {
     "name": "stdout",
     "output_type": "stream",
     "text": [
      "Epoch 1/20\n",
      "\u001b[1m1488/1488\u001b[0m \u001b[32m━━━━━━━━━━━━━━━━━━━━\u001b[0m\u001b[37m\u001b[0m \u001b[1m122s\u001b[0m 78ms/step - accuracy: 0.0568 - loss: 7.3408\n",
      "Epoch 2/20\n",
      "\u001b[1m1488/1488\u001b[0m \u001b[32m━━━━━━━━━━━━━━━━━━━━\u001b[0m\u001b[37m\u001b[0m \u001b[1m112s\u001b[0m 75ms/step - accuracy: 0.1280 - loss: 6.2934\n",
      "Epoch 3/20\n",
      "\u001b[1m1488/1488\u001b[0m \u001b[32m━━━━━━━━━━━━━━━━━━━━\u001b[0m\u001b[37m\u001b[0m \u001b[1m107s\u001b[0m 72ms/step - accuracy: 0.1592 - loss: 5.7267\n",
      "Epoch 4/20\n",
      "\u001b[1m1488/1488\u001b[0m \u001b[32m━━━━━━━━━━━━━━━━━━━━\u001b[0m\u001b[37m\u001b[0m \u001b[1m109s\u001b[0m 73ms/step - accuracy: 0.1846 - loss: 5.2336\n",
      "Epoch 5/20\n",
      "\u001b[1m1488/1488\u001b[0m \u001b[32m━━━━━━━━━━━━━━━━━━━━\u001b[0m\u001b[37m\u001b[0m \u001b[1m108s\u001b[0m 73ms/step - accuracy: 0.2119 - loss: 4.7504\n",
      "Epoch 6/20\n",
      "\u001b[1m1488/1488\u001b[0m \u001b[32m━━━━━━━━━━━━━━━━━━━━\u001b[0m\u001b[37m\u001b[0m \u001b[1m113s\u001b[0m 76ms/step - accuracy: 0.2435 - loss: 4.3140\n",
      "Epoch 7/20\n",
      "\u001b[1m1488/1488\u001b[0m \u001b[32m━━━━━━━━━━━━━━━━━━━━\u001b[0m\u001b[37m\u001b[0m \u001b[1m128s\u001b[0m 86ms/step - accuracy: 0.2918 - loss: 3.9037\n",
      "Epoch 8/20\n",
      "\u001b[1m1488/1488\u001b[0m \u001b[32m━━━━━━━━━━━━━━━━━━━━\u001b[0m\u001b[37m\u001b[0m \u001b[1m113s\u001b[0m 76ms/step - accuracy: 0.3416 - loss: 3.5076\n",
      "Epoch 9/20\n",
      "\u001b[1m1488/1488\u001b[0m \u001b[32m━━━━━━━━━━━━━━━━━━━━\u001b[0m\u001b[37m\u001b[0m \u001b[1m110s\u001b[0m 74ms/step - accuracy: 0.3988 - loss: 3.1659\n",
      "Epoch 10/20\n",
      "\u001b[1m1488/1488\u001b[0m \u001b[32m━━━━━━━━━━━━━━━━━━━━\u001b[0m\u001b[37m\u001b[0m \u001b[1m107s\u001b[0m 72ms/step - accuracy: 0.4561 - loss: 2.8258\n",
      "Epoch 11/20\n",
      "\u001b[1m1488/1488\u001b[0m \u001b[32m━━━━━━━━━━━━━━━━━━━━\u001b[0m\u001b[37m\u001b[0m \u001b[1m104s\u001b[0m 70ms/step - accuracy: 0.5009 - loss: 2.5469\n",
      "Epoch 12/20\n",
      "\u001b[1m1488/1488\u001b[0m \u001b[32m━━━━━━━━━━━━━━━━━━━━\u001b[0m\u001b[37m\u001b[0m \u001b[1m107s\u001b[0m 72ms/step - accuracy: 0.5508 - loss: 2.2939\n",
      "Epoch 13/20\n",
      "\u001b[1m1488/1488\u001b[0m \u001b[32m━━━━━━━━━━━━━━━━━━━━\u001b[0m\u001b[37m\u001b[0m \u001b[1m106s\u001b[0m 71ms/step - accuracy: 0.5954 - loss: 2.0534\n",
      "Epoch 14/20\n",
      "\u001b[1m1488/1488\u001b[0m \u001b[32m━━━━━━━━━━━━━━━━━━━━\u001b[0m\u001b[37m\u001b[0m \u001b[1m104s\u001b[0m 70ms/step - accuracy: 0.6298 - loss: 1.8809\n",
      "Epoch 15/20\n",
      "\u001b[1m1488/1488\u001b[0m \u001b[32m━━━━━━━━━━━━━━━━━━━━\u001b[0m\u001b[37m\u001b[0m \u001b[1m102s\u001b[0m 68ms/step - accuracy: 0.6651 - loss: 1.6981\n",
      "Epoch 16/20\n",
      "\u001b[1m1488/1488\u001b[0m \u001b[32m━━━━━━━━━━━━━━━━━━━━\u001b[0m\u001b[37m\u001b[0m \u001b[1m103s\u001b[0m 69ms/step - accuracy: 0.6983 - loss: 1.5370\n",
      "Epoch 17/20\n",
      "\u001b[1m1488/1488\u001b[0m \u001b[32m━━━━━━━━━━━━━━━━━━━━\u001b[0m\u001b[37m\u001b[0m \u001b[1m102s\u001b[0m 69ms/step - accuracy: 0.7208 - loss: 1.4120\n",
      "Epoch 18/20\n",
      "\u001b[1m1488/1488\u001b[0m \u001b[32m━━━━━━━━━━━━━━━━━━━━\u001b[0m\u001b[37m\u001b[0m \u001b[1m103s\u001b[0m 69ms/step - accuracy: 0.7457 - loss: 1.2948\n",
      "Epoch 19/20\n",
      "\u001b[1m1488/1488\u001b[0m \u001b[32m━━━━━━━━━━━━━━━━━━━━\u001b[0m\u001b[37m\u001b[0m \u001b[1m105s\u001b[0m 71ms/step - accuracy: 0.7663 - loss: 1.1761\n",
      "Epoch 20/20\n",
      "\u001b[1m1488/1488\u001b[0m \u001b[32m━━━━━━━━━━━━━━━━━━━━\u001b[0m\u001b[37m\u001b[0m \u001b[1m106s\u001b[0m 71ms/step - accuracy: 0.7797 - loss: 1.0983\n"
     ]
    },
    {
     "data": {
      "text/plain": [
       "<keras.src.callbacks.history.History at 0x2ae099dcd60>"
      ]
     },
     "execution_count": 32,
     "metadata": {},
     "output_type": "execute_result"
    }
   ],
   "source": [
    "model.fit(X, Y, epochs=20)"
   ]
  },
  {
   "cell_type": "code",
   "execution_count": 51,
   "id": "305677bb",
   "metadata": {},
   "outputs": [],
   "source": [
    "meu_texto = \"machine learning is\""
   ]
  },
  {
   "cell_type": "code",
   "execution_count": 53,
   "id": "b7fde5d1",
   "metadata": {},
   "outputs": [],
   "source": [
    "meu_texto_sequences = tokenizer.texts_to_sequences([meu_texto])"
   ]
  },
  {
   "cell_type": "code",
   "execution_count": 59,
   "id": "25e832d8",
   "metadata": {},
   "outputs": [],
   "source": [
    "entrada_sequences = pad_sequences(meu_texto_sequences, maxlen=maior_sequencia, padding='pre')"
   ]
  },
  {
   "cell_type": "code",
   "execution_count": 36,
   "id": "fceea858",
   "metadata": {},
   "outputs": [
    {
     "data": {
      "text/plain": [
       "['networks']"
      ]
     },
     "execution_count": 36,
     "metadata": {},
     "output_type": "execute_result"
    }
   ],
   "source": [
    "tokenizer.sequences_to_texts([[37]])"
   ]
  },
  {
   "cell_type": "code",
   "execution_count": 61,
   "id": "bfa92f5b",
   "metadata": {},
   "outputs": [
    {
     "name": "stdout",
     "output_type": "stream",
     "text": [
      "\u001b[1m1/1\u001b[0m \u001b[32m━━━━━━━━━━━━━━━━━━━━\u001b[0m\u001b[37m\u001b[0m \u001b[1m0s\u001b[0m 48ms/step\n"
     ]
    }
   ],
   "source": [
    "saida = model.predict(entrada_sequences)"
   ]
  },
  {
   "cell_type": "code",
   "execution_count": 62,
   "id": "71d3de54",
   "metadata": {},
   "outputs": [
    {
     "data": {
      "text/plain": [
       "(1, 8543)"
      ]
     },
     "execution_count": 62,
     "metadata": {},
     "output_type": "execute_result"
    }
   ],
   "source": [
    "saida.shape"
   ]
  },
  {
   "cell_type": "code",
   "execution_count": 65,
   "id": "77d566a0",
   "metadata": {},
   "outputs": [
    {
     "data": {
      "text/plain": [
       "37"
      ]
     },
     "execution_count": 65,
     "metadata": {},
     "output_type": "execute_result"
    }
   ],
   "source": [
    "np.argmax(saida)"
   ]
  },
  {
   "cell_type": "code",
   "execution_count": 68,
   "id": "c4f6b2a5",
   "metadata": {},
   "outputs": [],
   "source": [
    "saida_sequences = []"
   ]
  },
  {
   "cell_type": "code",
   "execution_count": 70,
   "id": "70bc98a9",
   "metadata": {
    "scrolled": true
   },
   "outputs": [],
   "source": [
    "saida_sequences.extend(meu_texto_sequences)"
   ]
  },
  {
   "cell_type": "code",
   "execution_count": 72,
   "id": "8870ad95",
   "metadata": {},
   "outputs": [],
   "source": [
    "saida_sequences[0].append(37)"
   ]
  },
  {
   "cell_type": "code",
   "execution_count": 73,
   "id": "f9906419",
   "metadata": {},
   "outputs": [
    {
     "data": {
      "text/plain": [
       "[[34, 22, 14, 37]]"
      ]
     },
     "execution_count": 73,
     "metadata": {},
     "output_type": "execute_result"
    }
   ],
   "source": [
    "saida_sequences"
   ]
  },
  {
   "cell_type": "code",
   "execution_count": 74,
   "id": "6ecf65d9",
   "metadata": {},
   "outputs": [
    {
     "data": {
      "text/plain": [
       "['machine learning is not']"
      ]
     },
     "execution_count": 74,
     "metadata": {},
     "output_type": "execute_result"
    }
   ],
   "source": [
    "tokenizer.sequences_to_texts(saida_sequences)"
   ]
  },
  {
   "cell_type": "code",
   "execution_count": 84,
   "id": "f997ce4b",
   "metadata": {},
   "outputs": [],
   "source": [
    "def complete_a_frase( texto ):\n",
    "    global maior_sequencia\n",
    "    meu_texto_sequences = tokenizer.texts_to_sequences(texto)\n",
    "    entrada_sequences = pad_sequences(meu_texto_sequences, maxlen=maior_sequencia, padding='pre')\n",
    "    saida = model.predict(entrada_sequences)\n",
    "    indice_proxima_palavra = np.argmax(saida)\n",
    "    saida_sequences = []\n",
    "    saida_sequences.extend(meu_texto_sequences)\n",
    "    saida_sequences[0].append(indice_proxima_palavra)\n",
    "    return tokenizer.sequences_to_texts(saida_sequences)\n",
    "    "
   ]
  },
  {
   "cell_type": "code",
   "execution_count": 116,
   "id": "aab17cd2",
   "metadata": {},
   "outputs": [
    {
     "name": "stdout",
     "output_type": "stream",
     "text": [
      "\u001b[1m1/1\u001b[0m \u001b[32m━━━━━━━━━━━━━━━━━━━━\u001b[0m\u001b[37m\u001b[0m \u001b[1m0s\u001b[0m 60ms/step\n"
     ]
    },
    {
     "data": {
      "text/plain": [
       "['learn to']"
      ]
     },
     "execution_count": 116,
     "metadata": {},
     "output_type": "execute_result"
    }
   ],
   "source": [
    "complete_a_frase([\"maxine learn\"])"
   ]
  },
  {
   "cell_type": "code",
   "execution_count": 127,
   "id": "8ed50483",
   "metadata": {},
   "outputs": [],
   "source": [
    "meu_texto_sequences = tokenizer.texts_to_sequences([\"maxine learn brazil\"])"
   ]
  },
  {
   "cell_type": "code",
   "execution_count": 128,
   "id": "4b8ee12e",
   "metadata": {},
   "outputs": [
    {
     "data": {
      "text/plain": [
       "[[1, 127, 4469]]"
      ]
     },
     "execution_count": 128,
     "metadata": {},
     "output_type": "execute_result"
    }
   ],
   "source": [
    "meu_texto_sequences"
   ]
  },
  {
   "cell_type": "code",
   "execution_count": 129,
   "id": "46483dd9",
   "metadata": {},
   "outputs": [
    {
     "data": {
      "text/plain": [
       "['OOV learn brazil']"
      ]
     },
     "execution_count": 129,
     "metadata": {},
     "output_type": "execute_result"
    }
   ],
   "source": [
    "tokenizer.sequences_to_texts(meu_texto_sequences)"
   ]
  },
  {
   "cell_type": "code",
   "execution_count": null,
   "id": "1af6fdf1",
   "metadata": {},
   "outputs": [],
   "source": []
  }
 ],
 "metadata": {
  "kernelspec": {
   "display_name": "Python 3 (ipykernel)",
   "language": "python",
   "name": "python3"
  },
  "language_info": {
   "codemirror_mode": {
    "name": "ipython",
    "version": 3
   },
   "file_extension": ".py",
   "mimetype": "text/x-python",
   "name": "python",
   "nbconvert_exporter": "python",
   "pygments_lexer": "ipython3",
   "version": "3.10.9"
  }
 },
 "nbformat": 4,
 "nbformat_minor": 5
}
