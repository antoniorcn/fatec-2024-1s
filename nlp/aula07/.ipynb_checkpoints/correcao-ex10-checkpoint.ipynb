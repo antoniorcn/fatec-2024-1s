{
 "cells": [
  {
   "cell_type": "code",
   "execution_count": 33,
   "id": "737263dc",
   "metadata": {},
   "outputs": [],
   "source": [
    "import nltk"
   ]
  },
  {
   "cell_type": "code",
   "execution_count": 1,
   "id": "09b2ef1f",
   "metadata": {},
   "outputs": [],
   "source": [
    "import string"
   ]
  },
  {
   "cell_type": "code",
   "execution_count": 93,
   "id": "e7d854e5",
   "metadata": {},
   "outputs": [],
   "source": [
    "import numpy as np"
   ]
  },
  {
   "cell_type": "code",
   "execution_count": 94,
   "id": "c03ac4be",
   "metadata": {},
   "outputs": [],
   "source": [
    "import matplotlib.pyplot as plt"
   ]
  },
  {
   "cell_type": "code",
   "execution_count": 131,
   "id": "3df34e5c",
   "metadata": {},
   "outputs": [],
   "source": [
    "import math"
   ]
  },
  {
   "cell_type": "code",
   "execution_count": 113,
   "id": "e2df738d",
   "metadata": {},
   "outputs": [],
   "source": [
    "import re"
   ]
  },
  {
   "cell_type": "code",
   "execution_count": 54,
   "id": "0cba8a57",
   "metadata": {},
   "outputs": [],
   "source": [
    "stop_words = nltk.corpus.stopwords.words('portuguese')"
   ]
  },
  {
   "cell_type": "code",
   "execution_count": 109,
   "id": "54b005f4",
   "metadata": {},
   "outputs": [],
   "source": [
    "stop_words = stop_words + ['bunda', 'peito', 'pitty', 'pra']"
   ]
  },
  {
   "cell_type": "code",
   "execution_count": 42,
   "id": "9f4c93a0",
   "metadata": {},
   "outputs": [],
   "source": [
    "# stop_words"
   ]
  },
  {
   "cell_type": "code",
   "execution_count": 2,
   "id": "547956b0",
   "metadata": {},
   "outputs": [
    {
     "data": {
      "text/plain": [
       "'!\"#$%&\\'()*+,-./:;<=>?@[\\\\]^_`{|}~'"
      ]
     },
     "execution_count": 2,
     "metadata": {},
     "output_type": "execute_result"
    }
   ],
   "source": [
    "# string.punctuation"
   ]
  },
  {
   "cell_type": "code",
   "execution_count": 27,
   "id": "655def04",
   "metadata": {},
   "outputs": [],
   "source": [
    "def limpar_caracteres( texto ):\n",
    "    novo_texto = \"\"\n",
    "    for c in texto:\n",
    "        if c not in string.punctuation:\n",
    "            novo_texto += c\n",
    "        if c in [\"\\n\", \"\\r\", \"\\t\"]:\n",
    "            novo_texto += ' '\n",
    "    novo_texto = novo_texto.replace(\"\\n\", \" \")\n",
    "    novo_texto = novo_texto.lower()\n",
    "    return novo_texto"
   ]
  },
  {
   "cell_type": "code",
   "execution_count": 28,
   "id": "8b06b246",
   "metadata": {},
   "outputs": [
    {
     "data": {
      "text/plain": [
       "'ola bom dia  como vc esta '"
      ]
     },
     "execution_count": 28,
     "metadata": {},
     "output_type": "execute_result"
    }
   ],
   "source": [
    "limpar_caracteres(\"Ola bom dia !!!! como vc esta ?\")"
   ]
  },
  {
   "cell_type": "code",
   "execution_count": 29,
   "id": "f4ab2a29",
   "metadata": {},
   "outputs": [],
   "source": [
    "def ler_arquivo( nome_arquivo ):\n",
    "    arquivo = open(nome_arquivo, \"r\", encoding=\"utf-8\")\n",
    "    texto = arquivo.read()\n",
    "    texto_limpo = limpar_caracteres(texto)\n",
    "    arquivo.close()\n",
    "    return texto_limpo"
   ]
  },
  {
   "cell_type": "code",
   "execution_count": 30,
   "id": "af2ba909",
   "metadata": {},
   "outputs": [
    {
     "data": {
      "text/plain": [
       "'na sua estante  pitty    te vejo errando e isso não é pecado  exceto quando faz outra pessoa sangrar  te vejo sonhando e isso dá medo  perdido num mundo que não dá pra entrar    você está saindo da minha vida  e parece que vai demorar  se não souber voltar ao menos mande notícia  cê acha que eu sou louca  mas tudo vai se encaixar    tô aproveitando cada segundo  antes que isso aqui vire uma tragédia    e não adianta nem me procurar  em outros timbres outros risos  eu estava aqui o tempo todo  só você não viu    e não adianta nem me procurar  em outros timbres outros risos  eu estava aqui o tempo todo  só você não viu    você tá sempre indo e vindo tudo bem  dessa vez eu já vesti minha armadura  e mesmo que nada funcione  eu estarei de pé de queixo erguido    depois você me vê vermelha e acha graça  mas eu não ficaria bem na sua estante    tô aproveitando cada segundo  antes que isso aqui vire uma tragédia    e não adianta nem me procurar  em outros timbres outros risos  eu estava aqui o tempo todo  só você não viu    e não adianta nem me procurar  em outros timbres outros risos  eu estava aqui o tempo todo  só você não viu    só por hoje não quero mais te ver  só por hoje não vou tomar minha dose de você  cansei de chorar feridas que não se fecham não se curam não  e essa abstinência uma hora vai passar'"
      ]
     },
     "execution_count": 30,
     "metadata": {},
     "output_type": "execute_result"
    }
   ],
   "source": [
    "ler_arquivo(\"./musica1.txt\")"
   ]
  },
  {
   "cell_type": "code",
   "execution_count": 36,
   "id": "2a3ae9e7",
   "metadata": {},
   "outputs": [],
   "source": [
    "def extrair_tokens( texto ):\n",
    "    return nltk.tokenize.word_tokenize(texto)"
   ]
  },
  {
   "cell_type": "code",
   "execution_count": 44,
   "id": "0ce13ab1",
   "metadata": {},
   "outputs": [],
   "source": [
    "texto = ler_arquivo(\"./musica1.txt\")\n",
    "tokens = extrair_tokens( texto )"
   ]
  },
  {
   "cell_type": "code",
   "execution_count": 39,
   "id": "14c9540a",
   "metadata": {},
   "outputs": [],
   "source": [
    "# texto.split(\" \")"
   ]
  },
  {
   "cell_type": "code",
   "execution_count": 43,
   "id": "5f23d1c5",
   "metadata": {},
   "outputs": [],
   "source": [
    "def limpar_tokens( tokens ):\n",
    "    global stop_words\n",
    "    tokens_limpos = []\n",
    "    for token in tokens:\n",
    "        if token not in stop_words:\n",
    "            tokens_limpos.append( token )\n",
    "    return tokens_limpos"
   ]
  },
  {
   "cell_type": "code",
   "execution_count": 56,
   "id": "eb63359d",
   "metadata": {},
   "outputs": [],
   "source": [
    "tokens_limpinhos = limpar_tokens( tokens )"
   ]
  },
  {
   "cell_type": "code",
   "execution_count": 48,
   "id": "42dcb6f7",
   "metadata": {},
   "outputs": [],
   "source": [
    "# tokens"
   ]
  },
  {
   "cell_type": "code",
   "execution_count": 58,
   "id": "07901a84",
   "metadata": {},
   "outputs": [],
   "source": [
    "# tokens_limpinhos"
   ]
  },
  {
   "cell_type": "code",
   "execution_count": 81,
   "id": "7b45d17b",
   "metadata": {},
   "outputs": [],
   "source": [
    "def extrair_valor( x ):\n",
    "    return x[1]"
   ]
  },
  {
   "cell_type": "code",
   "execution_count": 121,
   "id": "71fed500",
   "metadata": {},
   "outputs": [],
   "source": [
    "def dicionario( tokens ):\n",
    "    dicionario = {}\n",
    "    for token in tokens:\n",
    "        if token in dicionario:\n",
    "            dicionario[token] = dicionario[token] + 1\n",
    "        else:\n",
    "            dicionario[token] = 1\n",
    "    return dicionario"
   ]
  },
  {
   "cell_type": "code",
   "execution_count": 122,
   "id": "2ed15133",
   "metadata": {},
   "outputs": [],
   "source": [
    "def top20( tokens ):\n",
    "    d_sem_ordem = dicionario(tokens)\n",
    "    d_ordenado = sorted(d_sem_ordem.items(), key=extrair_valor)\n",
    "    \n",
    "    d_ordenado = d_ordenado[::-1][0:20]\n",
    "    print(\"Ordenado: \", d_ordenado)\n",
    "    return d_ordenado"
   ]
  },
  {
   "cell_type": "code",
   "execution_count": 91,
   "id": "7d943084",
   "metadata": {},
   "outputs": [
    {
     "name": "stdout",
     "output_type": "stream",
     "text": [
      "Ordenado:  [('outros', 8), ('aqui', 6), ('viu', 4), ('todo', 4), ('tempo', 4), ('risos', 4), ('timbres', 4), ('procurar', 4), ('adianta', 4), ('vai', 3), ('hoje', 2), ('bem', 2), ('tragédia', 2), ('vire', 2), ('antes', 2), ('segundo', 2), ('cada', 2), ('aproveitando', 2), ('tô', 2), ('tudo', 2)]\n"
     ]
    }
   ],
   "source": [
    "d = top20(tokens_limpinhos)"
   ]
  },
  {
   "cell_type": "code",
   "execution_count": 101,
   "id": "71d0cc0a",
   "metadata": {},
   "outputs": [],
   "source": [
    "def gerar_grafico( matriz ):\n",
    "    np_matriz = np.array( matriz )\n",
    "    palavras = np_matriz[:, 0]\n",
    "    frequencias = np_matriz[:, 1].astype(np.int32)\n",
    "    plt.barh(palavras, frequencias)"
   ]
  },
  {
   "cell_type": "code",
   "execution_count": 102,
   "id": "63f2bd0e",
   "metadata": {},
   "outputs": [
    {
     "data": {
      "image/png": "[encoded data removed]",
      "text/plain": [
       "<Figure size 640x480 with 1 Axes>"
      ]
     },
     "metadata": {},
     "output_type": "display_data"
    }
   ],
   "source": [
    "gerar_grafico( d )"
   ]
  },
  {
   "cell_type": "code",
   "execution_count": 104,
   "id": "7d6aab19",
   "metadata": {},
   "outputs": [],
   "source": [
    "def plotar_grafico_texto_arquivo ( nome_arquivo ):\n",
    "    musica = ler_arquivo(nome_arquivo)\n",
    "    tokens = extrair_tokens( musica )\n",
    "    tokens_limpos = limpar_tokens( tokens )\n",
    "    d_20 = top20( tokens_limpos )\n",
    "    gerar_grafico( d_20 )"
   ]
  },
  {
   "cell_type": "code",
   "execution_count": 105,
   "id": "1a0c1b2b",
   "metadata": {},
   "outputs": [
    {
     "name": "stdout",
     "output_type": "stream",
     "text": [
      "Ordenado:  [('senhor', 8), ('sistema', 5), ('sim', 4), ('diga', 4), ('ouça', 4), ('use', 4), ('esqueça', 4), ('vote', 4), ('leia', 4), ('beba', 4), ('compre', 4), ('fale', 4), ('pense', 4), ('reinstalar', 3), ('fazer', 3), ('vão', 3), ('sei', 3), ('novamente', 3), ('vêm', 3), ('lá', 3)]\n"
     ]
    },
    {
     "data": {
      "image/png": "[encoded data removed]",
      "text/plain": [
       "<Figure size 640x480 with 1 Axes>"
      ]
     },
     "metadata": {},
     "output_type": "display_data"
    }
   ],
   "source": [
    "plotar_grafico_texto_arquivo(\"./musica2.txt\")\n"
   ]
  },
  {
   "cell_type": "code",
   "execution_count": 106,
   "id": "5d9864e3",
   "metadata": {},
   "outputs": [
    {
     "name": "stdout",
     "output_type": "stream",
     "text": [
      "Ordenado:  [('pra', 9), ('adora', 8), ('perceber', 7), ('embora', 7), ('ir', 7), ('espere', 7), ('foda', 7), ('acha', 7), ('nome', 4), ('desonre', 4), ('admitir', 2), ('fazer', 2), ('sei', 2), ('sorrir', 2), ('apenas', 2), ('devo', 2), ('enlouquecer', 2), ('posso', 2), ('vier', 1), ('apatia', 1)]\n"
     ]
    },
    {
     "data": {
      "image/png": "[encoded data removed]",
      "text/plain": [
       "<Figure size 640x480 with 1 Axes>"
      ]
     },
     "metadata": {},
     "output_type": "display_data"
    }
   ],
   "source": [
    "plotar_grafico_texto_arquivo(\"./musica3.txt\")\n"
   ]
  },
  {
   "cell_type": "code",
   "execution_count": 107,
   "id": "99431dd4",
   "metadata": {},
   "outputs": [
    {
     "name": "stdout",
     "output_type": "stream",
     "text": [
      "Ordenado:  [('vê', 8), ('tanto', 8), ('faz', 8), ('mundo', 6), ('pensar', 4), ('consigo', 4), ('passa', 4), ('distraída', 4), ('tão', 4), ('sempre', 4), ('avenida', 4), ('outdoors', 4), ('beijos', 4), ('mando', 4), ('perdeu', 4), ('algo', 4), ('tempo', 4), ('frio', 4), ('mim', 4), ('pra', 4)]\n"
     ]
    },
    {
     "data": {
      "image/png": "[encoded data removed]",
      "text/plain": [
       "<Figure size 640x480 with 1 Axes>"
      ]
     },
     "metadata": {},
     "output_type": "display_data"
    }
   ],
   "source": [
    "plotar_grafico_texto_arquivo(\"./musica5.txt\")\n"
   ]
  },
  {
   "cell_type": "code",
   "execution_count": 110,
   "id": "fe6ace0f",
   "metadata": {},
   "outputs": [
    {
     "name": "stdout",
     "output_type": "stream",
     "text": [
      "Ordenado:  [('vê', 9), ('acha', 9), ('faz', 9), ('tanto', 8), ('adora', 8), ('senhor', 8), ('tempo', 8), ('outros', 8), ('aqui', 8), ('perceber', 7), ('embora', 7), ('ir', 7), ('espere', 7), ('foda', 7), ('sempre', 7), ('mundo', 7), ('amor', 5), ('mim', 5), ('nome', 5), ('fazer', 5)]\n"
     ]
    },
    {
     "data": {
      "image/png": "[encoded data removed]",
      "text/plain": [
       "<Figure size 640x480 with 1 Axes>"
      ]
     },
     "metadata": {},
     "output_type": "display_data"
    }
   ],
   "source": [
    "musica = ler_arquivo(\"./musica1.txt\")\n",
    "todos_tokens = []\n",
    "tokens = extrair_tokens( musica )\n",
    "todos_tokens = todos_tokens + limpar_tokens( tokens )\n",
    "musica = ler_arquivo(\"./musica2.txt\")\n",
    "tokens = extrair_tokens( musica )\n",
    "todos_tokens = todos_tokens + limpar_tokens( tokens )\n",
    "musica = ler_arquivo(\"./musica3.txt\")\n",
    "tokens = extrair_tokens( musica )\n",
    "todos_tokens = todos_tokens + limpar_tokens( tokens )\n",
    "musica = ler_arquivo(\"./musica4.txt\")\n",
    "tokens = extrair_tokens( musica )\n",
    "todos_tokens = todos_tokens + limpar_tokens( tokens )\n",
    "musica = ler_arquivo(\"./musica5.txt\")\n",
    "tokens = extrair_tokens( musica )\n",
    "todos_tokens = todos_tokens + limpar_tokens( tokens )\n",
    "d_20 = top20( todos_tokens )\n",
    "gerar_grafico( d_20 )"
   ]
  },
  {
   "cell_type": "code",
   "execution_count": 117,
   "id": "3ddd1491",
   "metadata": {},
   "outputs": [],
   "source": []
  },
  {
   "cell_type": "code",
   "execution_count": 114,
   "id": "110cdcf1",
   "metadata": {},
   "outputs": [],
   "source": [
    "def stem_regex( tokens ):\n",
    "    padrao = r'(?:lhos|lhas|lho|lha|de|os|as|o|a|eu|s|ar|er|ir|or|ur|ia)\\b'\n",
    "    nova_lista = []\n",
    "    for token in tokens:\n",
    "        resultado = re.sub(padrao, \"\", token)\n",
    "        nova_lista.append(resultado)\n",
    "    return nova_lista"
   ]
  },
  {
   "cell_type": "code",
   "execution_count": 118,
   "id": "3276b461",
   "metadata": {},
   "outputs": [],
   "source": [
    "def stem_rslp( tokens ):\n",
    "    stemmer = nltk.RSLPStemmer()\n",
    "    nova_lista = []\n",
    "    for token in tokens:\n",
    "        resultado = stemmer.stem(token)\n",
    "        nova_lista.append(resultado)\n",
    "    return nova_lista"
   ]
  },
  {
   "cell_type": "code",
   "execution_count": 119,
   "id": "f17824ce",
   "metadata": {},
   "outputs": [
    {
     "data": {
      "text/plain": [
       "['est',\n",
       " 'vej',\n",
       " 'err',\n",
       " 'pec',\n",
       " 'excet',\n",
       " 'faz',\n",
       " 'outr',\n",
       " 'pesso',\n",
       " 'sangr',\n",
       " 'vej',\n",
       " 'sonh',\n",
       " 'dá',\n",
       " 'med',\n",
       " 'perd',\n",
       " 'mund',\n",
       " 'dá',\n",
       " 'entr',\n",
       " 'saind',\n",
       " 'vid',\n",
       " 'parec',\n",
       " 'vai',\n",
       " 'demor',\n",
       " 'soub',\n",
       " 'volt',\n",
       " 'menos',\n",
       " 'mand',\n",
       " 'notíc',\n",
       " 'cê',\n",
       " 'ach',\n",
       " 'louc',\n",
       " 'tud',\n",
       " 'vai',\n",
       " 'encaix',\n",
       " 'tô',\n",
       " 'aproveit',\n",
       " 'cad',\n",
       " 'segund',\n",
       " 'ant',\n",
       " 'aqu',\n",
       " 'vir',\n",
       " 'tragéd',\n",
       " 'adiant',\n",
       " 'procur',\n",
       " 'outr',\n",
       " 'timbr',\n",
       " 'outr',\n",
       " 'ris',\n",
       " 'aqu',\n",
       " 'temp',\n",
       " 'tod',\n",
       " 'viu',\n",
       " 'adiant',\n",
       " 'procur',\n",
       " 'outr',\n",
       " 'timbr',\n",
       " 'outr',\n",
       " 'ris',\n",
       " 'aqu',\n",
       " 'temp',\n",
       " 'tod',\n",
       " 'viu',\n",
       " 'tá',\n",
       " 'sempr',\n",
       " 'ind',\n",
       " 'vind',\n",
       " 'tud',\n",
       " 'bem',\n",
       " 'dess',\n",
       " 'vez',\n",
       " 'vest',\n",
       " 'armad',\n",
       " 'nad',\n",
       " 'funcion',\n",
       " 'est',\n",
       " 'pé',\n",
       " 'queix',\n",
       " 'ergu',\n",
       " 'vê',\n",
       " 'vermelh',\n",
       " 'ach',\n",
       " 'graç',\n",
       " 'fic',\n",
       " 'bem',\n",
       " 'est',\n",
       " 'tô',\n",
       " 'aproveit',\n",
       " 'cad',\n",
       " 'segund',\n",
       " 'ant',\n",
       " 'aqu',\n",
       " 'vir',\n",
       " 'tragéd',\n",
       " 'adiant',\n",
       " 'procur',\n",
       " 'outr',\n",
       " 'timbr',\n",
       " 'outr',\n",
       " 'ris',\n",
       " 'aqu',\n",
       " 'temp',\n",
       " 'tod',\n",
       " 'viu',\n",
       " 'adiant',\n",
       " 'procur',\n",
       " 'outr',\n",
       " 'timbr',\n",
       " 'outr',\n",
       " 'ris',\n",
       " 'aqu',\n",
       " 'temp',\n",
       " 'tod',\n",
       " 'viu',\n",
       " 'hoj',\n",
       " 'quer',\n",
       " 'ver',\n",
       " 'hoj',\n",
       " 'vou',\n",
       " 'tom',\n",
       " 'dos',\n",
       " 'cans',\n",
       " 'chor',\n",
       " 'fer',\n",
       " 'fech',\n",
       " 'cur',\n",
       " 'abstin',\n",
       " 'hor',\n",
       " 'vai',\n",
       " 'pass',\n",
       " 'admir',\n",
       " 'chip',\n",
       " 'nov',\n",
       " 'pan',\n",
       " 'sistem',\n",
       " 'alguém',\n",
       " 'desconfigur',\n",
       " 'aond',\n",
       " 'olh',\n",
       " 'robô',\n",
       " 'sab',\n",
       " 'perceb',\n",
       " 'sempr',\n",
       " 'ach',\n",
       " 'viv',\n",
       " 'parafus',\n",
       " 'flu',\n",
       " 'lug',\n",
       " 'articul',\n",
       " 'ach',\n",
       " 'aqu',\n",
       " 'bat',\n",
       " 'coraçã',\n",
       " 'nad',\n",
       " 'orgân',\n",
       " 'tud',\n",
       " 'program',\n",
       " 'ach',\n",
       " 'libert',\n",
       " 'lá',\n",
       " 'vêm',\n",
       " 'nov',\n",
       " 'sei',\n",
       " 'vão',\n",
       " 'faz',\n",
       " 'reinstal',\n",
       " 'sistem',\n",
       " 'pens',\n",
       " 'fal',\n",
       " 'compr',\n",
       " 'beb',\n",
       " 'lei',\n",
       " 'vot',\n",
       " 'esqueç',\n",
       " 'use',\n",
       " 'ouç',\n",
       " 'dig',\n",
       " 'mor',\n",
       " 'gast',\n",
       " 'viv',\n",
       " 'pens',\n",
       " 'fal',\n",
       " 'compr',\n",
       " 'beb',\n",
       " 'lei',\n",
       " 'vot',\n",
       " 'esqueç',\n",
       " 'use',\n",
       " 'ouç',\n",
       " 'dig',\n",
       " 'senh',\n",
       " 'sim',\n",
       " 'senh',\n",
       " 'senh',\n",
       " 'sim',\n",
       " 'senh',\n",
       " 'pan',\n",
       " 'sistem',\n",
       " 'alguém',\n",
       " 'desconfigur',\n",
       " 'aond',\n",
       " 'olh',\n",
       " 'robô',\n",
       " 'sab',\n",
       " 'perceb',\n",
       " 'sempr',\n",
       " 'ach',\n",
       " 'viv',\n",
       " 'parafus',\n",
       " 'flu',\n",
       " 'lug',\n",
       " 'articul',\n",
       " 'ach',\n",
       " 'aqu',\n",
       " 'bat',\n",
       " 'coraçã',\n",
       " 'nad',\n",
       " 'orgân',\n",
       " 'tud',\n",
       " 'program',\n",
       " 'ach',\n",
       " 'libert',\n",
       " 'lá',\n",
       " 'vêm',\n",
       " 'nov',\n",
       " 'sei',\n",
       " 'vão',\n",
       " 'faz',\n",
       " 'reinstal',\n",
       " 'sistem',\n",
       " 'pens',\n",
       " 'fal',\n",
       " 'compr',\n",
       " 'beb',\n",
       " 'lei',\n",
       " 'vot',\n",
       " 'esqueç',\n",
       " 'use',\n",
       " 'ouç',\n",
       " 'dig',\n",
       " 'mor',\n",
       " 'gast',\n",
       " 'viv',\n",
       " 'pens',\n",
       " 'fal',\n",
       " 'compr',\n",
       " 'beb',\n",
       " 'lei',\n",
       " 'vot',\n",
       " 'esqueç',\n",
       " 'use',\n",
       " 'ouç',\n",
       " 'dig',\n",
       " 'senh',\n",
       " 'sim',\n",
       " 'senh',\n",
       " 'senh',\n",
       " 'sim',\n",
       " 'senh',\n",
       " 'lá',\n",
       " 'vêm',\n",
       " 'nov',\n",
       " 'sei',\n",
       " 'vão',\n",
       " 'faz',\n",
       " 'reinstal',\n",
       " 'sistem',\n",
       " 'ador',\n",
       " 'tant',\n",
       " 'decepç',\n",
       " 'viv',\n",
       " 'long',\n",
       " 'cruel',\n",
       " 'silênci',\n",
       " 'profund',\n",
       " 'decl',\n",
       " 'desonr',\n",
       " 'nom',\n",
       " 'ouv',\n",
       " 'fim',\n",
       " 'injust',\n",
       " 'julg',\n",
       " 'praz',\n",
       " 'cuid',\n",
       " 'fal',\n",
       " 'mim',\n",
       " 'desonr',\n",
       " 'nom',\n",
       " 'poss',\n",
       " 'enlouquec',\n",
       " 'dev',\n",
       " 'apen',\n",
       " 'sorr',\n",
       " 'sei',\n",
       " 'faz',\n",
       " 'admit',\n",
       " 'ador',\n",
       " 'ach',\n",
       " 'fod',\n",
       " 'esper',\n",
       " 'ir',\n",
       " 'emb',\n",
       " 'perceb',\n",
       " 'ador',\n",
       " 'ach',\n",
       " 'fod',\n",
       " 'esper',\n",
       " 'ir',\n",
       " 'emb',\n",
       " 'perceb',\n",
       " 'perceb',\n",
       " 'sab',\n",
       " 'palpit',\n",
       " 'mão',\n",
       " 'olh',\n",
       " 'pod',\n",
       " 'ver',\n",
       " 'ent',\n",
       " 'desonr',\n",
       " 'nom',\n",
       " 'import',\n",
       " 'qu',\n",
       " 'culp',\n",
       " 'projeç',\n",
       " 'aceit',\n",
       " 'apat',\n",
       " 'vi',\n",
       " 'desonr',\n",
       " 'nom',\n",
       " 'poss',\n",
       " 'enlouquec',\n",
       " 'dev',\n",
       " 'apen',\n",
       " 'sorr',\n",
       " 'sei',\n",
       " 'faz',\n",
       " 'admit',\n",
       " 'ador',\n",
       " 'ach',\n",
       " 'fod',\n",
       " 'esper',\n",
       " 'ir',\n",
       " 'emb',\n",
       " 'perceb',\n",
       " 'ador',\n",
       " 'ach',\n",
       " 'fod',\n",
       " 'esper',\n",
       " 'ir',\n",
       " 'emb',\n",
       " 'perceb',\n",
       " 'ador',\n",
       " 'ach',\n",
       " 'fod',\n",
       " 'esper',\n",
       " 'ir',\n",
       " 'emb',\n",
       " 'perceb',\n",
       " 'ador',\n",
       " 'ach',\n",
       " 'fod',\n",
       " 'esper',\n",
       " 'ir',\n",
       " 'emb',\n",
       " 'perceb',\n",
       " 'ador',\n",
       " 'ach',\n",
       " 'fod',\n",
       " 'esper',\n",
       " 'ir',\n",
       " 'emb',\n",
       " 'perceb',\n",
       " 'codinom',\n",
       " 'beijafl',\n",
       " 'cazuz',\n",
       " 'ment',\n",
       " 'fing',\n",
       " 'perdo',\n",
       " 'tent',\n",
       " 'fic',\n",
       " 'amig',\n",
       " 'ranc',\n",
       " 'emoç',\n",
       " 'acab',\n",
       " 'coincid',\n",
       " 'am',\n",
       " 'músic',\n",
       " 'nunc',\n",
       " 'toc',\n",
       " 'us',\n",
       " 'tant',\n",
       " 'educ',\n",
       " 'destil',\n",
       " 'terc',\n",
       " 'intenç',\n",
       " 'desperdiç',\n",
       " 'mel',\n",
       " 'devag',\n",
       " 'fl',\n",
       " 'fl',\n",
       " 'inimig',\n",
       " 'beijafl',\n",
       " 'proteg',\n",
       " 'nom',\n",
       " 'am',\n",
       " 'codinom',\n",
       " 'beijafl',\n",
       " 'respond',\n",
       " 'nunc',\n",
       " 'am',\n",
       " 'nunc',\n",
       " 'qualqu',\n",
       " 'rua',\n",
       " 'beijafl',\n",
       " 'pod',\n",
       " 'dentr',\n",
       " 'orelh',\n",
       " 'fri',\n",
       " 'diz',\n",
       " 'segred',\n",
       " 'liquidific',\n",
       " 'sonh',\n",
       " 'acord',\n",
       " 'jeit',\n",
       " 'sent',\n",
       " 'dor',\n",
       " 'prend',\n",
       " 'chor',\n",
       " 'agu',\n",
       " 'bom',\n",
       " 'am',\n",
       " 'prend',\n",
       " 'chor',\n",
       " 'agu',\n",
       " 'bom',\n",
       " 'am',\n",
       " 'segu',\n",
       " 'estrel',\n",
       " 'sig',\n",
       " 'palavr',\n",
       " 'busc',\n",
       " 'estrel',\n",
       " 'mund',\n",
       " 'fez',\n",
       " 'rir',\n",
       " 'assim',\n",
       " 'tocál',\n",
       " 'melhor',\n",
       " 'vêl',\n",
       " 'pôd',\n",
       " 'perd',\n",
       " 'mim',\n",
       " 'faz',\n",
       " 'tant',\n",
       " 'fri',\n",
       " 'faz',\n",
       " 'tant',\n",
       " 'temp',\n",
       " 'mund',\n",
       " 'alg',\n",
       " 'perd',\n",
       " 'mand',\n",
       " 'beij',\n",
       " 'outdo',\n",
       " 'aven',\n",
       " 'sempr',\n",
       " 'tão',\n",
       " 'distra',\n",
       " 'pass',\n",
       " 'vê',\n",
       " 'vê',\n",
       " 'fic',\n",
       " 'acord',\n",
       " 'noit',\n",
       " 'int',\n",
       " 'dia',\n",
       " 'parec',\n",
       " 'ter',\n",
       " 'fim',\n",
       " 'esfing',\n",
       " 'esper',\n",
       " 'olh',\n",
       " 'pedr',\n",
       " 'pen',\n",
       " 'mim',\n",
       " 'faz',\n",
       " 'tant',\n",
       " 'fri',\n",
       " 'faz',\n",
       " 'tant',\n",
       " 'temp',\n",
       " 'mund',\n",
       " 'alg',\n",
       " 'perd',\n",
       " 'mand',\n",
       " 'beij',\n",
       " 'outdo',\n",
       " 'aven',\n",
       " 'sempr',\n",
       " 'tão',\n",
       " 'distra',\n",
       " 'pass',\n",
       " 'vê',\n",
       " 'vê',\n",
       " 'consig',\n",
       " 'pens',\n",
       " 'consig',\n",
       " 'pens',\n",
       " 'fic',\n",
       " 'acord',\n",
       " 'noit',\n",
       " 'int',\n",
       " 'dia',\n",
       " 'parec',\n",
       " 'ter',\n",
       " 'fim',\n",
       " 'esfing',\n",
       " 'esper',\n",
       " 'olh',\n",
       " 'pedr',\n",
       " 'pen',\n",
       " 'mim',\n",
       " 'faz',\n",
       " 'tant',\n",
       " 'fri',\n",
       " 'faz',\n",
       " 'tant',\n",
       " 'temp',\n",
       " 'mund',\n",
       " 'alg',\n",
       " 'perd',\n",
       " 'mand',\n",
       " 'beij',\n",
       " 'outdo',\n",
       " 'aven',\n",
       " 'sempr',\n",
       " 'tão',\n",
       " 'distra',\n",
       " 'pass',\n",
       " 'vê',\n",
       " 'vê',\n",
       " 'sig',\n",
       " 'palavr',\n",
       " 'busc',\n",
       " 'estrel',\n",
       " 'mund',\n",
       " 'fez',\n",
       " 'rir',\n",
       " 'assim',\n",
       " 'tocál',\n",
       " 'melhor',\n",
       " 'vêl',\n",
       " 'pôd',\n",
       " 'perd',\n",
       " 'mim',\n",
       " 'faz',\n",
       " 'tant',\n",
       " 'fri',\n",
       " 'faz',\n",
       " 'tant',\n",
       " 'temp',\n",
       " 'mund',\n",
       " 'alg',\n",
       " 'perd',\n",
       " 'mand',\n",
       " 'beij',\n",
       " 'outdo',\n",
       " 'aven',\n",
       " 'sempr',\n",
       " 'tão',\n",
       " 'distra',\n",
       " 'pass',\n",
       " 'vê',\n",
       " 'vê',\n",
       " 'consig',\n",
       " 'pens',\n",
       " 'consig',\n",
       " 'pens']"
      ]
     },
     "execution_count": 119,
     "metadata": {},
     "output_type": "execute_result"
    }
   ],
   "source": [
    "stem_tokens = stem_rslp( todos_tokens )"
   ]
  },
  {
   "cell_type": "code",
   "execution_count": 120,
   "id": "4818546a",
   "metadata": {},
   "outputs": [
    {
     "name": "stdout",
     "output_type": "stream",
     "text": [
      "Ordenado:  [('ach', 15), ('faz', 14), ('tant', 10), ('perceb', 10), ('esper', 9), ('vê', 9), ('outr', 9), ('ador', 8), ('senh', 8), ('pens', 8), ('temp', 8), ('aqu', 8), ('emb', 7), ('ir', 7), ('fod', 7), ('sempr', 7), ('mund', 7), ('perd', 7), ('fri', 5), ('am', 5)]\n"
     ]
    },
    {
     "data": {
      "image/png": "[encoded data removed]",
      "text/plain": [
       "<Figure size 640x480 with 1 Axes>"
      ]
     },
     "metadata": {},
     "output_type": "display_data"
    }
   ],
   "source": [
    "musica = ler_arquivo(\"./musica1.txt\")\n",
    "todos_tokens = []\n",
    "tokens = extrair_tokens( musica )\n",
    "todos_tokens = todos_tokens + stem_rslp(limpar_tokens( tokens ))\n",
    "musica = ler_arquivo(\"./musica2.txt\")\n",
    "tokens = extrair_tokens( musica )\n",
    "todos_tokens = todos_tokens + stem_rslp(limpar_tokens( tokens ))\n",
    "musica = ler_arquivo(\"./musica3.txt\")\n",
    "tokens = extrair_tokens( musica )\n",
    "todos_tokens = todos_tokens + stem_rslp(limpar_tokens( tokens ))\n",
    "musica = ler_arquivo(\"./musica4.txt\")\n",
    "tokens = extrair_tokens( musica )\n",
    "todos_tokens = todos_tokens + stem_rslp(limpar_tokens( tokens ))\n",
    "musica = ler_arquivo(\"./musica5.txt\")\n",
    "tokens = extrair_tokens( musica )\n",
    "todos_tokens = todos_tokens + stem_rslp(limpar_tokens( tokens ))\n",
    "d_20 = top20( todos_tokens )\n",
    "gerar_grafico( d_20 )"
   ]
  },
  {
   "cell_type": "code",
   "execution_count": 125,
   "id": "dc6a3c97",
   "metadata": {},
   "outputs": [],
   "source": [
    "frequencias = dicionario(todos_tokens)"
   ]
  },
  {
   "cell_type": "code",
   "execution_count": 126,
   "id": "081e4d8a",
   "metadata": {},
   "outputs": [
    {
     "data": {
      "text/plain": [
       "576"
      ]
     },
     "execution_count": 126,
     "metadata": {},
     "output_type": "execute_result"
    }
   ],
   "source": [
    "total_frequency = 0\n",
    "for v in frequencias.values():\n",
    "    total_frequency += v\n",
    "total_frequency"
   ]
  },
  {
   "cell_type": "code",
   "execution_count": 129,
   "id": "6d9faebd",
   "metadata": {},
   "outputs": [
    {
     "data": {
      "text/plain": [
       "15"
      ]
     },
     "execution_count": 129,
     "metadata": {},
     "output_type": "execute_result"
    }
   ],
   "source": [
    "frequencias['ach']"
   ]
  },
  {
   "cell_type": "code",
   "execution_count": 128,
   "id": "d3132abd",
   "metadata": {},
   "outputs": [
    {
     "data": {
      "text/plain": [
       "0.026041666666666668"
      ]
     },
     "execution_count": 128,
     "metadata": {},
     "output_type": "execute_result"
    }
   ],
   "source": [
    "frequencias['ach'] / total_frequency"
   ]
  },
  {
   "cell_type": "code",
   "execution_count": 137,
   "id": "dcbec703",
   "metadata": {},
   "outputs": [],
   "source": [
    "N = 5\n",
    "df_ach = frequencias['ach']\n",
    "idf_ach = math.log( (N / df_ach), 10)"
   ]
  },
  {
   "cell_type": "code",
   "execution_count": 138,
   "id": "ffff9c75",
   "metadata": {},
   "outputs": [
    {
     "data": {
      "text/plain": [
       "-0.47712125471966244"
      ]
     },
     "execution_count": 138,
     "metadata": {},
     "output_type": "execute_result"
    }
   ],
   "source": [
    "idf_ach"
   ]
  },
  {
   "cell_type": "code",
   "execution_count": 139,
   "id": "8c6956d4",
   "metadata": {},
   "outputs": [],
   "source": [
    "N = 5\n",
    "df_perd = frequencias['perd']\n",
    "idf_perd = math.log( (N / df_perd), 10)"
   ]
  },
  {
   "cell_type": "code",
   "execution_count": 140,
   "id": "c1b18512",
   "metadata": {},
   "outputs": [
    {
     "data": {
      "text/plain": [
       "-0.14612803567823798"
      ]
     },
     "execution_count": 140,
     "metadata": {},
     "output_type": "execute_result"
    }
   ],
   "source": [
    "idf_perd"
   ]
  },
  {
   "cell_type": "code",
   "execution_count": 141,
   "id": "0892f922",
   "metadata": {},
   "outputs": [],
   "source": [
    "N = 5\n",
    "df_am = frequencias['am']\n",
    "idf_am = math.log( (N / df_am), 10)"
   ]
  },
  {
   "cell_type": "code",
   "execution_count": 142,
   "id": "21abde16",
   "metadata": {},
   "outputs": [
    {
     "data": {
      "text/plain": [
       "0.0"
      ]
     },
     "execution_count": 142,
     "metadata": {},
     "output_type": "execute_result"
    }
   ],
   "source": [
    "idf_am"
   ]
  },
  {
   "cell_type": "code",
   "execution_count": null,
   "id": "a5881ada",
   "metadata": {},
   "outputs": [],
   "source": []
  }
 ],
 "metadata": {
  "kernelspec": {
   "display_name": "Python 3 (ipykernel)",
   "language": "python",
   "name": "python3"
  },
  "language_info": {
   "codemirror_mode": {
    "name": "ipython",
    "version": 3
   },
   "file_extension": ".py",
   "mimetype": "text/x-python",
   "name": "python",
   "nbconvert_exporter": "python",
   "pygments_lexer": "ipython3",
   "version": "3.10.9"
  }
 },
 "nbformat": 4,
 "nbformat_minor": 5
}
