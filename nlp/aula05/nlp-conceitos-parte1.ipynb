{
 "cells": [
  {
   "cell_type": "code",
   "execution_count": 1,
   "id": "f529f237",
   "metadata": {},
   "outputs": [],
   "source": [
    "import string"
   ]
  },
  {
   "cell_type": "code",
   "execution_count": 2,
   "id": "0b5cdb12",
   "metadata": {},
   "outputs": [],
   "source": [
    "texto = \"\"\"rato roeu a roupa do rei de Roma,\n",
    "O rato roeu a roupa do rei da Rússia,\n",
    "O rato roeu a roupa do RodovaIho...\n",
    "O rato a roer roía\n",
    "E a rosa Rita Ramalho do rato a roer se ria.\n",
    "O rato roeu a roupa do rei de roma\n",
    "a rainha com raiva roeu o resto.\"\"\""
   ]
  },
  {
   "cell_type": "code",
   "execution_count": 3,
   "id": "950bcee6",
   "metadata": {},
   "outputs": [],
   "source": [
    "stop_words = ['a', 'o', 'as', 'os', 'um', 'uma', 'do', 'da']"
   ]
  },
  {
   "cell_type": "code",
   "execution_count": 4,
   "id": "a9d566b8",
   "metadata": {},
   "outputs": [
    {
     "data": {
      "text/plain": [
       "'!\"#$%&\\'()*+,-./:;<=>?@[\\\\]^_`{|}~'"
      ]
     },
     "execution_count": 4,
     "metadata": {},
     "output_type": "execute_result"
    }
   ],
   "source": [
    "string.punctuation"
   ]
  },
  {
   "cell_type": "code",
   "execution_count": 5,
   "id": "3c3423d2",
   "metadata": {},
   "outputs": [],
   "source": [
    "texto = texto.replace(\",\", \" \").replace(\"\\n\", \" \").replace(\"...\", \" \")"
   ]
  },
  {
   "cell_type": "code",
   "execution_count": 6,
   "id": "586ce5b9",
   "metadata": {},
   "outputs": [],
   "source": [
    "tokens = texto.split(\" \")"
   ]
  },
  {
   "cell_type": "code",
   "execution_count": 7,
   "id": "90ddb6c3",
   "metadata": {},
   "outputs": [
    {
     "data": {
      "text/plain": [
       "['rato',\n",
       " 'roeu',\n",
       " 'a',\n",
       " 'roupa',\n",
       " 'do',\n",
       " 'rei',\n",
       " 'de',\n",
       " 'Roma',\n",
       " '',\n",
       " 'O',\n",
       " 'rato',\n",
       " 'roeu',\n",
       " 'a',\n",
       " 'roupa',\n",
       " 'do',\n",
       " 'rei',\n",
       " 'da',\n",
       " 'Rússia',\n",
       " '',\n",
       " 'O',\n",
       " 'rato',\n",
       " 'roeu',\n",
       " 'a',\n",
       " 'roupa',\n",
       " 'do',\n",
       " 'RodovaIho',\n",
       " '',\n",
       " 'O',\n",
       " 'rato',\n",
       " 'a',\n",
       " 'roer',\n",
       " 'roía',\n",
       " 'E',\n",
       " 'a',\n",
       " 'rosa',\n",
       " 'Rita',\n",
       " 'Ramalho',\n",
       " 'do',\n",
       " 'rato',\n",
       " 'a',\n",
       " 'roer',\n",
       " 'se',\n",
       " 'ria.',\n",
       " 'O',\n",
       " 'rato',\n",
       " 'roeu',\n",
       " 'a',\n",
       " 'roupa',\n",
       " 'do',\n",
       " 'rei',\n",
       " 'de',\n",
       " 'roma',\n",
       " 'a',\n",
       " 'rainha',\n",
       " 'com',\n",
       " 'raiva',\n",
       " 'roeu',\n",
       " 'o',\n",
       " 'resto.']"
      ]
     },
     "execution_count": 7,
     "metadata": {},
     "output_type": "execute_result"
    }
   ],
   "source": [
    "tokens"
   ]
  },
  {
   "cell_type": "code",
   "execution_count": 9,
   "id": "ff79d770",
   "metadata": {},
   "outputs": [],
   "source": [
    "palavras_sem_stop_words = []\n",
    "for palavra in tokens:\n",
    "    if palavra not in stop_words:\n",
    "        palavras_sem_stop_words.append(palavra)"
   ]
  },
  {
   "cell_type": "code",
   "execution_count": 11,
   "id": "a1367c08",
   "metadata": {},
   "outputs": [
    {
     "data": {
      "text/plain": [
       "44"
      ]
     },
     "execution_count": 11,
     "metadata": {},
     "output_type": "execute_result"
    }
   ],
   "source": [
    "len(palavras_sem_stop_words)"
   ]
  },
  {
   "cell_type": "code",
   "execution_count": 10,
   "id": "3e1072c2",
   "metadata": {},
   "outputs": [
    {
     "data": {
      "text/plain": [
       "59"
      ]
     },
     "execution_count": 10,
     "metadata": {},
     "output_type": "execute_result"
    }
   ],
   "source": [
    "len(tokens)"
   ]
  },
  {
   "cell_type": "code",
   "execution_count": null,
   "id": "fcb35d94",
   "metadata": {},
   "outputs": [],
   "source": [
    "vocabulario = []"
   ]
  },
  {
   "cell_type": "code",
   "execution_count": null,
   "id": "4efc2d08",
   "metadata": {},
   "outputs": [],
   "source": [
    "for palavra in tokens:\n",
    "    if palavra not in vocabulario:\n",
    "        vocabulario.append(palavra)"
   ]
  },
  {
   "cell_type": "code",
   "execution_count": null,
   "id": "cdfe6d1a",
   "metadata": {},
   "outputs": [],
   "source": [
    "vocabulario = set(tokens)"
   ]
  },
  {
   "cell_type": "code",
   "execution_count": null,
   "id": "696fc5ef",
   "metadata": {},
   "outputs": [],
   "source": [
    "len(vocabulario)"
   ]
  },
  {
   "cell_type": "code",
   "execution_count": null,
   "id": "46a5e4d9",
   "metadata": {},
   "outputs": [],
   "source": [
    "riqueza_lexical = len(vocabulario) / len(tokens)"
   ]
  },
  {
   "cell_type": "code",
   "execution_count": null,
   "id": "d64605f5",
   "metadata": {},
   "outputs": [],
   "source": [
    "riqueza_lexical"
   ]
  }
 ],
 "metadata": {
  "kernelspec": {
   "display_name": "Python 3 (ipykernel)",
   "language": "python",
   "name": "python3"
  },
  "language_info": {
   "codemirror_mode": {
    "name": "ipython",
    "version": 3
   },
   "file_extension": ".py",
   "mimetype": "text/x-python",
   "name": "python",
   "nbconvert_exporter": "python",
   "pygments_lexer": "ipython3",
   "version": "3.10.9"
  }
 },
 "nbformat": 4,
 "nbformat_minor": 5
}
