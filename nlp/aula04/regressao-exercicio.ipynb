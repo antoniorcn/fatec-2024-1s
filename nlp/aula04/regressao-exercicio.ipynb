{
 "cells": [
  {
   "cell_type": "markdown",
   "id": "109c96d2",
   "metadata": {},
   "source": [
    "# Exercicio, encontrar o melhor valor de W e B em 10 tentativas"
   ]
  },
  {
   "cell_type": "code",
   "execution_count": 1,
   "id": "6ef3022e",
   "metadata": {},
   "outputs": [],
   "source": [
    "import numpy as np"
   ]
  },
  {
   "cell_type": "code",
   "execution_count": 2,
   "id": "f417c036",
   "metadata": {},
   "outputs": [],
   "source": [
    "import matplotlib.pyplot as plt"
   ]
  },
  {
   "cell_type": "code",
   "execution_count": 3,
   "id": "de0676f5",
   "metadata": {},
   "outputs": [],
   "source": [
    "np.random.seed(50)\n",
    "desvio = np.random.random(size=100)"
   ]
  },
  {
   "cell_type": "code",
   "execution_count": 4,
   "id": "e997bde2",
   "metadata": {},
   "outputs": [],
   "source": [
    "mm_chuva = np.arange(50, 150)\n",
    "mm_chuva = mm_chuva * (desvio * 0.10)"
   ]
  },
  {
   "cell_type": "code",
   "execution_count": 5,
   "id": "0e0e7d71",
   "metadata": {},
   "outputs": [],
   "source": [
    "colheita = np.arange(3, 103)\n",
    "colheita = colheita * (desvio * 0.10)"
   ]
  },
  {
   "cell_type": "code",
   "execution_count": 6,
   "id": "f0d5a61e",
   "metadata": {
    "scrolled": true
   },
   "outputs": [
    {
     "data": {
      "text/plain": [
       "<matplotlib.collections.PathCollection at 0x25091534490>"
      ]
     },
     "execution_count": 6,
     "metadata": {},
     "output_type": "execute_result"
    },
    {
     "data": {
      "image/png": "[encoded data removed]",
      "text/plain": [
       "<Figure size 640x480 with 1 Axes>"
      ]
     },
     "metadata": {},
     "output_type": "display_data"
    }
   ],
   "source": [
    "plt.scatter(mm_chuva, colheita)"
   ]
  },
  {
   "cell_type": "code",
   "execution_count": 7,
   "id": "8f050336",
   "metadata": {},
   "outputs": [],
   "source": [
    "X = mm_chuva\n",
    "Y = colheita"
   ]
  },
  {
   "cell_type": "code",
   "execution_count": 16,
   "id": "2f88c58c",
   "metadata": {},
   "outputs": [],
   "source": [
    "def predict(X, w, b):\n",
    "    y_hat = X * w + b\n",
    "    return y_hat\n",
    "\n",
    "y_hat = predict(X, 1, -3)"
   ]
  },
  {
   "cell_type": "code",
   "execution_count": 17,
   "id": "672aba66",
   "metadata": {},
   "outputs": [],
   "source": [
    "def calcular_custo(Y, y_hat):\n",
    "    m = Y.shape[0]\n",
    "    temp = (y_hat - Y) ** 2\n",
    "    return np.sum(temp) / (2 * m)"
   ]
  },
  {
   "cell_type": "code",
   "execution_count": 18,
   "id": "c953b6cc",
   "metadata": {},
   "outputs": [
    {
     "data": {
      "text/plain": [
       "0.9471343185374813"
      ]
     },
     "execution_count": 18,
     "metadata": {},
     "output_type": "execute_result"
    }
   ],
   "source": [
    "calcular_custo(Y, y_hat)"
   ]
  },
  {
   "cell_type": "code",
   "execution_count": null,
   "id": "83b9215b",
   "metadata": {},
   "outputs": [],
   "source": []
  }
 ],
 "metadata": {
  "kernelspec": {
   "display_name": "Python 3 (ipykernel)",
   "language": "python",
   "name": "python3"
  },
  "language_info": {
   "codemirror_mode": {
    "name": "ipython",
    "version": 3
   },
   "file_extension": ".py",
   "mimetype": "text/x-python",
   "name": "python",
   "nbconvert_exporter": "python",
   "pygments_lexer": "ipython3",
   "version": "3.10.9"
  }
 },
 "nbformat": 4,
 "nbformat_minor": 5
}
